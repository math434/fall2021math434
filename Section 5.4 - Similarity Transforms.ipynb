{
 "cells": [
  {
   "cell_type": "markdown",
   "id": "choice-profile",
   "metadata": {},
   "source": [
    "---\n",
    "# Section 5.4: Similarity Transforms\n",
    "---"
   ]
  },
  {
   "cell_type": "markdown",
   "id": "foster-challenge",
   "metadata": {},
   "source": [
    "## Unitary matrices\n",
    "\n",
    "Let $x, y \\in \\mathbb{C}^n$. Then the **inner-product** of $x$ and $y$ is\n",
    "\n",
    "$$\n",
    "\\langle x, y \\rangle = y^* x\n",
    "$$\n",
    "\n",
    "and the **2-norm** of $x$ is\n",
    "\n",
    "$$\n",
    "\\|x\\|_2 = \\sqrt{\\langle x, x \\rangle}.\n",
    "$$\n",
    "\n",
    "We say $U \\in \\mathbb{C}^{n \\times n}$ is **unitary** if $U^* U = I$ (i.e., $U^{-1} = U^*$).\n",
    "\n",
    "Then:\n",
    "\n",
    "1. $\\langle U x, U y \\rangle = \\langle x, y \\rangle$,\n",
    "\n",
    "2. $\\|U x\\|_2 = \\|x\\|_2$."
   ]
  },
  {
   "cell_type": "markdown",
   "id": "premier-strain",
   "metadata": {},
   "source": [
    "---\n",
    "\n",
    "## Unitarily similar\n",
    "\n",
    "- We say $A, B \\in \\mathbb{C}^{n \\times n}$ are **unitarily similar** if there exists a unitary matrix $U$ such that\n",
    "\n",
    "  $$\n",
    "  B = U^* A U.\n",
    "  $$\n",
    "\n",
    "- We say $A, B \\in \\mathbb{R}^{n \\times n}$ are **orthogonally similar** if there exists an orthogonal matrix $U$ such that\n",
    "\n",
    "  $$\n",
    "  B = U^T A U.\n",
    "  $$"
   ]
  },
  {
   "cell_type": "markdown",
   "id": "annual-alignment",
   "metadata": {},
   "source": [
    "---\n",
    "\n",
    "## Schur Decomposition\n",
    "\n",
    "> ### Theorem: (Schur Decomposition)\n",
    ">\n",
    "> Let $A \\in \\mathbb{C}^{n \\times n}$. Then there exists $U, T \\in \\mathbb{C}^{n \\times n}$ such that\n",
    ">\n",
    "> $$ A = U T U^* $$\n",
    ">\n",
    "> where $U$ is unitary and $T$ is upper-triangular.\n",
    "\n",
    "Thus, all $n \\times n$ matrices are unitarily similar to an upper-triangular matrix. The diagonal entries of $T$ are the eigenvalues of $A$."
   ]
  },
  {
   "cell_type": "markdown",
   "id": "animal-legislature",
   "metadata": {},
   "source": [
    "---\n",
    "\n",
    "## Hermitian matrices\n",
    "\n",
    "If $A^* = A$, we say $A$ is **Hermitian**.\n",
    "\n",
    "> ### Corollary: (Spectral Decomposition for Hermitian Matrices)\n",
    ">\n",
    "> Let $A \\in \\mathbb{C}^{n \\times n}$ such that $A^* = A$. Then there exists $U \\in \\mathbb{C}^{n \\times n}$ unitary and $D \\in \\mathbb{R}^{n \\times n}$ diagonal such that\n",
    ">\n",
    "> $$ A = U D U^*. $$\n",
    "\n",
    "That is, eigenvalues of Hermitian matrices are *real* and Hermitian matrices always have $n$ orthogonal eigenvectors.\n",
    "\n",
    "If $A \\in \\mathbb{R}^{n \\times n}$ is symmetric, then\n",
    "\n",
    "$$ A = U D U^T, $$\n",
    "\n",
    "where $U$ is orthogonal and $D$ is diagonal."
   ]
  },
  {
   "cell_type": "markdown",
   "id": "comic-glance",
   "metadata": {},
   "source": [
    "---\n",
    "\n",
    "## Real Schur Theorem\n",
    "\n",
    "A matrix $T \\in \\mathbb{R}^{n \\times n}$ is **quasi-triangular** if\n",
    "\n",
    "$$\n",
    "T = \n",
    "\\begin{bmatrix}\n",
    "T_{11} & T_{12} & \\cdots & T_{1m} \\\\\n",
    "       & T_{22} & \\cdots & T_{2m} \\\\\n",
    "       &        & \\ddots & \\vdots \\\\\n",
    "       &        &        & T_{mm} \\\\\n",
    "\\end{bmatrix},\n",
    "$$\n",
    "\n",
    "with each $T_{ii}$ being either $1 \\times 1$ or $2 \\times 2$."
   ]
  },
  {
   "cell_type": "markdown",
   "id": "comparative-canberra",
   "metadata": {},
   "source": [
    "> ### Theorem: (Wintner-Murnaghan)\n",
    ">\n",
    "> Let $A \\in \\mathbb{R}^{n \\times n}$. Then there is an orthogonal matrix $U \\in \\mathbb{R}^{n \\times n}$ and a quasi-triangular matrix $T \\in \\mathbb{R}^{n \\times n}$ such that\n",
    ">\n",
    "> $$ A = U T U^T. $$\n",
    ">\n",
    "> The $1 \\times 1$ diagonal blocks of $T$ contain the real eigenvalues of $A$ and the $2 \\times 2$ diagonal blocks of $T$ correspond to the complex conjugate pairs of eigenvalues of $A$."
   ]
  },
  {
   "cell_type": "markdown",
   "id": "political-injection",
   "metadata": {},
   "source": [
    "---"
   ]
  }
 ],
 "metadata": {
  "kernelspec": {
   "display_name": "Julia 1.6.4",
   "language": "julia",
   "name": "julia-1.6"
  },
  "language_info": {
   "file_extension": ".jl",
   "mimetype": "application/julia",
   "name": "julia",
   "version": "1.6.4"
  }
 },
 "nbformat": 4,
 "nbformat_minor": 5
}
