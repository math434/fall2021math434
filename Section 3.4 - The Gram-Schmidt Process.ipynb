{
 "cells": [
  {
   "cell_type": "markdown",
   "id": "8d949313-0595-4da4-b685-6f2de88145ca",
   "metadata": {},
   "source": [
    "---\n",
    "# Section 3.4: The Gram-Schmidt Process\n",
    "---"
   ]
  },
  {
   "cell_type": "markdown",
   "id": "f36fa509-cd68-45c6-bede-fe7c2b5c2704",
   "metadata": {},
   "source": [
    "Given a linearly independent set of $m$ vectors in $\\mathbb{R}^n$,\n",
    "\n",
    "$$\n",
    "\\{v_1, v_2, \\ldots, v_m\\} \\subseteq \\mathbb{R}^n,\n",
    "$$\n",
    "\n",
    "the **Gram-Schmidt process** produces an orthonormal set of vectors,\n",
    "\n",
    "$$\n",
    "\\{q_1, q_2, \\ldots, q_m\\} \\subseteq \\mathbb{R}^n,\n",
    "$$\n",
    "\n",
    "such that\n",
    "\n",
    "$$\n",
    "\\mathrm{span}\\{v_1, v_2, \\ldots, v_m\\} = \\mathrm{span}\\{q_1, q_2, \\ldots, q_m\\}.\n",
    "$$"
   ]
  },
  {
   "cell_type": "markdown",
   "id": "ac25afc3-f5f2-41ae-af44-dbc33826a841",
   "metadata": {},
   "source": [
    "---"
   ]
  },
  {
   "cell_type": "markdown",
   "id": "57ebadc7-47eb-4487-a181-722b88139cab",
   "metadata": {},
   "source": [
    "## Orthonormal set of vectors\n",
    "\n",
    "A set of vectors $\\{q_1, q_2, \\ldots, q_m\\}$ is said to be _orthonormal_ if the vectors are pairwise orthogonal and each vector has Euclidean norm one; that is,\n",
    "\n",
    "$$\n",
    "\\langle q_i, q_j \\rangle =\n",
    "\\begin{cases}\n",
    "0 & \\text{if $i \\ne j$} \\\\\n",
    "1 & \\text{if $i = j$},\n",
    "\\end{cases}\n",
    "$$\n",
    "\n",
    "where $\\langle q_i, q_j \\rangle = q_i^T q_j$ is the inner product (or dot product) of the vectors $q_i$ and $q_j$."
   ]
  },
  {
   "cell_type": "markdown",
   "id": "5320c677-77c4-40b6-8212-12cbd4464f0b",
   "metadata": {},
   "source": [
    "---"
   ]
  },
  {
   "cell_type": "markdown",
   "id": "66cd8208-1a2a-4ada-9df2-a09452b0fb7c",
   "metadata": {},
   "source": [
    "## Orthonormal and isometric matrices\n",
    "\n",
    "A matrix $Q \\in \\mathbb{R}^{n \\times m}$, with $n \\ge m$, is called _isometric_ (or an _isometry_) if its columns are orthonormal; that is, if $Q^T Q = I$.\n",
    "\n",
    "If $Q$ is a _square_ isometric matrix, then $Q$ is an orthogonal matrix since $Q^{-1} = Q^T$, so we also have $Q Q^T = I$.\n",
    "\n",
    "However, if $Q$ is an isometric matrix that has more rows than columns, then $Q$ cannot have an inverse since it is not square. Moreover, $Q Q^T \\ne I$."
   ]
  },
  {
   "cell_type": "markdown",
   "id": "8aac989b-42d6-4b19-905f-6dabcfbb45a7",
   "metadata": {},
   "source": [
    "---"
   ]
  },
  {
   "cell_type": "markdown",
   "id": "4676e77c-0bb3-4e5a-8353-3d22026de54c",
   "metadata": {},
   "source": [
    "## Example"
   ]
  },
  {
   "cell_type": "code",
   "execution_count": null,
   "id": "65bbd610-5c03-4581-bbe7-1057ac0aef0a",
   "metadata": {},
   "outputs": [],
   "source": [
    "using LinearAlgebra"
   ]
  },
  {
   "cell_type": "code",
   "execution_count": null,
   "id": "96a26269-de0e-4ba4-a34b-15e2df4cb160",
   "metadata": {},
   "outputs": [],
   "source": [
    "\"\"\"\n",
    "`isorand(n, m)` generates a random n-by-m isometric matrix.\n",
    "\"\"\"\n",
    "function isorand(n, m)\n",
    "    F = qr(randn(n, m))\n",
    "    return F.Q[:,1:m]\n",
    "end\n",
    "\n",
    "Q = isorand(5, 3)"
   ]
  },
  {
   "cell_type": "code",
   "execution_count": null,
   "id": "a1ce2dc9-f294-4f47-9b09-be7289154a51",
   "metadata": {},
   "outputs": [],
   "source": [
    "?isorand"
   ]
  },
  {
   "cell_type": "code",
   "execution_count": null,
   "id": "4fa34cad-71f4-410d-8cb3-e454dced3377",
   "metadata": {},
   "outputs": [],
   "source": [
    "Q'Q"
   ]
  },
  {
   "cell_type": "code",
   "execution_count": null,
   "id": "4f05a648-f495-4ca3-bde6-adfcb6aea56e",
   "metadata": {},
   "outputs": [],
   "source": [
    "Q*Q'"
   ]
  },
  {
   "cell_type": "markdown",
   "id": "ba55b865-b733-4796-84d0-10715d35590d",
   "metadata": {},
   "source": [
    "---"
   ]
  },
  {
   "cell_type": "markdown",
   "id": "8e3f4a30-62c2-40be-a51d-89ecd9a5cb9e",
   "metadata": {},
   "source": [
    "## Exercise\n",
    "\n",
    "Let $Q \\in \\mathbb{R}^{n \\times m}$ ($n > m$) be an isometry with columns $q_1, q_2, \\ldots, q_m$ and let\n",
    "\n",
    "$$S = \\mathrm{span}\\{q_1,q_2,\\ldots,q_m\\}$$\n",
    "\n",
    "be the subspace spanned by these vectors.\n",
    "\n",
    "1. Show that $Q Q^T v = 0$ if $v$ is orthogonal to $q_1, q_2, \\ldots, q_m$.\n",
    "\n",
    "2. Show that $Q Q^T w = w$ if $w \\in S$. Therefore, $Q Q^T$ behaves like the identity matrix on the subspace $S$.\n",
    "\n",
    "3. Show that $(Q Q^T)^2 = Q Q^T$. Thus, $Q Q^T$ is a _projector_ (in fact, it is an _orthogonal projector_)."
   ]
  },
  {
   "cell_type": "markdown",
   "id": "pending-update",
   "metadata": {},
   "source": [
    "### Part 1\n",
    "\n",
    "Suppose that $v \\perp q_i$ for $i=1,\\ldots,m$. In other words, $\\langle v, q_i \\rangle = 0$ for $i=1,\\ldots,m$. Note that\n",
    "\n",
    "$$\n",
    "Q^T v =\n",
    "\\begin{bmatrix}\n",
    "\\langle q_1, v \\rangle \\\\\n",
    "\\vdots \\\\\n",
    "\\langle q_m, v \\rangle\n",
    "\\end{bmatrix} = 0.\n",
    "$$\n",
    "\n",
    "Thus, $Q Q^T v = Q \\cdot 0 = 0$."
   ]
  },
  {
   "cell_type": "markdown",
   "id": "disturbed-english",
   "metadata": {},
   "source": [
    "### Part 2\n",
    "\n",
    "Let $w \\in S$. Then $w$ is a linear combination of the vectors $q_1,\\ldots,q_m$, so\n",
    "\n",
    "$$\n",
    "w = c_1 q_1 + \\cdots + c_m q_m.\n",
    "$$\n",
    "\n",
    "Then, letting $e_i$ represent the $i$th column of the $n \\times n$ identity matrix, we have\n",
    "\n",
    "$$\n",
    "\\begin{align}\n",
    "Q Q^T w \n",
    "&= Q Q^T (c_1 q_1 + \\cdots + c_m q_m) \\\\\n",
    "&= Q (c_1 Q^T q_1 + \\cdots + c_m Q^T q_m) \\\\\n",
    "&= Q (c_1 e_1 + \\cdots + c_m e_m) \\\\\n",
    "&= Q \\begin{bmatrix} c_1 \\\\ \\vdots \\\\ c_m \\end{bmatrix} \\\\\n",
    "&= c_1 q_1 + \\cdots + c_m q_m \\\\\n",
    "&= w.\n",
    "\\end{align}\n",
    "$$"
   ]
  },
  {
   "cell_type": "markdown",
   "id": "floating-prison",
   "metadata": {},
   "source": [
    "### Part 3\n",
    "\n",
    "Since $Q^T Q = I$, we have\n",
    "\n",
    "$$\n",
    "(Q Q^T)^2 = Q Q^T Q Q^T = Q I Q^T = Q Q^T.\n",
    "$$"
   ]
  },
  {
   "cell_type": "markdown",
   "id": "f070722e-d3c9-4a97-8d4c-fa8fc4f16fba",
   "metadata": {},
   "source": [
    "---"
   ]
  },
  {
   "cell_type": "markdown",
   "id": "7e3e491c-02d5-499f-845a-21eaba875926",
   "metadata": {},
   "source": [
    "## Example"
   ]
  },
  {
   "cell_type": "code",
   "execution_count": null,
   "id": "7ef0bd5e-f1bf-424c-b4bc-96c6879a0beb",
   "metadata": {},
   "outputs": [],
   "source": [
    "Q = isorand(5, 3)"
   ]
  },
  {
   "cell_type": "code",
   "execution_count": null,
   "id": "476e6f1c-b504-4d58-9d30-e99ebb4ea9b9",
   "metadata": {},
   "outputs": [],
   "source": [
    "x = randn(5)\n",
    "\n",
    "# Project x onto S = span{q1,...,qm}\n",
    "w = Q*(Q'x)"
   ]
  },
  {
   "cell_type": "code",
   "execution_count": null,
   "id": "b4ca0868-9dbd-4363-88d5-4187b46ca548",
   "metadata": {},
   "outputs": [],
   "source": [
    "Q*(Q'w) ≈ w"
   ]
  },
  {
   "cell_type": "code",
   "execution_count": null,
   "id": "8ced8a90-6014-4f04-955d-cd5c212c4b10",
   "metadata": {},
   "outputs": [],
   "source": [
    "# Since Q*Q' is an orthogonal projector,\n",
    "# x - w is orthogonal to q1,...,qm.\n",
    "\n",
    "v = x - w\n",
    "\n",
    "Q'v"
   ]
  },
  {
   "cell_type": "markdown",
   "id": "f71d8506-380f-48cc-8083-3152ddb5148e",
   "metadata": {},
   "source": [
    "---"
   ]
  },
  {
   "cell_type": "markdown",
   "id": "5d38cee8-9528-482b-8143-8a98fbe4807a",
   "metadata": {},
   "source": [
    "## Exercise\n",
    "\n",
    "Show that if $Q \\in \\mathbb{R}^{n \\times m}$ is an isometry, then\n",
    "\n",
    "1. $\\langle Q x, Q y \\rangle = \\langle x, y \\rangle$ for all $x, y \\in \\mathbb{R}^{m}$,\n",
    "\n",
    "2. $\\|Q x\\|_2 = \\|x\\|_2$ for all $x \\in \\mathbb{R}^m$."
   ]
  },
  {
   "cell_type": "markdown",
   "id": "integrated-yield",
   "metadata": {},
   "source": [
    "### Part 1\n",
    "\n",
    "Since $Q^T Q = I$, we have that \n",
    "\n",
    "$$\n",
    "\\langle Q x, Q y \\rangle = (Q x)^T (Q y) = x^T Q^T Q y = x^T y = \\langle x, y \\rangle.\n",
    "$$"
   ]
  },
  {
   "cell_type": "markdown",
   "id": "biblical-assets",
   "metadata": {},
   "source": [
    "### Part 2\n",
    "\n",
    "By part 1,\n",
    "\n",
    "$$\n",
    "\\| Q x \\|_2 = \\sqrt{\\langle Q x, Q x \\rangle} = \\sqrt{\\langle x, x \\rangle} = \\| x \\|_2.\n",
    "$$"
   ]
  },
  {
   "cell_type": "markdown",
   "id": "eb9a9eb5-81e8-4b67-b900-6fa59116ce27",
   "metadata": {},
   "source": [
    "---"
   ]
  },
  {
   "cell_type": "markdown",
   "id": "02b9c8c3-dbbe-44da-9db9-77bbea3c3a20",
   "metadata": {},
   "source": [
    "> ## Theorem: (Condensed $QR$ for $n \\times m$ matrix)\n",
    ">\n",
    "> Let $A \\in \\mathbb{R}^{n \\times m}$, $n \\ge m$. Then there exists $\\hat{Q} \\in \\mathbb{R}^{n \\times m}$ isometric and $\\hat{R} \\in \\mathbb{R}^{m \\times m}$ upper-triangular such that \n",
    "> \n",
    "> $$ A = \\hat{Q}\\hat{R}. $$\n",
    ">\n",
    "> Moreover, if the columns of $A$ are linearly independent, then this factorization of $A$ is unique under the condition that $\\hat{R}$ has positive diagonal entries."
   ]
  },
  {
   "cell_type": "markdown",
   "id": "d7e387df-e29c-4523-b4ec-660046309b4d",
   "metadata": {},
   "source": [
    "---"
   ]
  },
  {
   "cell_type": "markdown",
   "id": "a12199af-ab2a-42f6-9f40-8a7e1229946b",
   "metadata": {},
   "source": [
    "## Example\n",
    "\n",
    "We can obtain the condensed $QR$ factorization of a matrix $A$ using the Julia function `qr` as follows."
   ]
  },
  {
   "cell_type": "code",
   "execution_count": null,
   "id": "7f3054b0-266c-4b4a-a547-2da691154f0f",
   "metadata": {},
   "outputs": [],
   "source": [
    "function condensed_qr(A)\n",
    "    n, m = size(A)\n",
    "    F = qr(A)\n",
    "    Q̂ = Matrix(F.Q)\n",
    "    R̂ = F.R\n",
    "    return Q̂, R̂\n",
    "end"
   ]
  },
  {
   "cell_type": "code",
   "execution_count": null,
   "id": "641cb01a-0579-41de-b8ea-87d4c17a5de7",
   "metadata": {},
   "outputs": [],
   "source": [
    "n, m = 5, 3\n",
    "A = randn(n, m)\n",
    "Q̂, R̂ = condensed_qr(A);"
   ]
  },
  {
   "cell_type": "code",
   "execution_count": null,
   "id": "2af7b002-dc61-4761-8cfb-e2156b8eba4d",
   "metadata": {},
   "outputs": [],
   "source": [
    "Q̂"
   ]
  },
  {
   "cell_type": "code",
   "execution_count": null,
   "id": "5ad90f3a-5d1a-479d-b8d2-745ac926bb5f",
   "metadata": {},
   "outputs": [],
   "source": [
    "R̂"
   ]
  },
  {
   "cell_type": "code",
   "execution_count": null,
   "id": "2a8db5c7-0938-491c-9757-16f157f03ce0",
   "metadata": {},
   "outputs": [],
   "source": [
    "A ≈ Q̂*R̂"
   ]
  },
  {
   "cell_type": "markdown",
   "id": "498b4164-531a-4daa-8f21-fb92084ac02b",
   "metadata": {},
   "source": [
    "---"
   ]
  },
  {
   "cell_type": "markdown",
   "id": "13f07c60-05cb-4b1d-b9e7-a42f4780d93d",
   "metadata": {},
   "source": [
    "## Exercise\n",
    "\n",
    "Let $q_1,\\ldots,q_m$ be orthonormal vectors in $\\mathbb{R}^n$. Prove that $q_1,\\ldots,q_m$ are linearly independent."
   ]
  },
  {
   "cell_type": "markdown",
   "id": "unusual-supply",
   "metadata": {},
   "source": [
    "### Proof.\n",
    "\n",
    "Suppose we have a linear combination of the vectors $q_1,\\ldots,q_m$ that gives us the zero vector. That is, $\\exists c_1,\\ldots,c_m \\in \\mathbb{R}$ such that\n",
    "\n",
    "$$\n",
    "c_1 q_1 + \\cdots + c_m q_m = 0.\n",
    "$$\n",
    "\n",
    "To show that $q_1,\\ldots,q_m$ are linearly independent, we need to show that $c_1 = \\cdots = c_m = 0$.\n",
    "\n",
    "Let's take the inner product of $q_1$ with $c_1 q_1 + \\cdots + c_m q_m$, which gives us\n",
    "\n",
    "$$\n",
    "\\begin{eqnarray}\n",
    "\\langle q_1, c_1 q_1 + \\cdots + c_m q_m \\rangle &=& \\langle q_1, 0 \\rangle \\\\\n",
    "c_1 \\langle q_1, q_1 \\rangle + \\cdots + c_m \\langle q_1, q_m \\rangle &=& 0 \\\\\n",
    "c_1 \\cdot 1 + c_2 \\cdot 0 + \\cdots + c_m \\cdot 0 &=& 0 \\\\\n",
    "c_1 &=& 0.\n",
    "\\end{eqnarray}\n",
    "$$\n",
    "\n",
    "Thus,\n",
    "\n",
    "$$\n",
    "c_2 q_2 + \\cdots + c_m q_m = 0.\n",
    "$$\n",
    "\n",
    "Taking the inner product of this equation with $q_2$ leads us to conclude that $c_2 = 0$. And so on, we have that $c_1 = c_2 = \\ldots = c_m = 0$."
   ]
  },
  {
   "cell_type": "markdown",
   "id": "4c05cf2b-6296-4ad7-ae59-6416a2607723",
   "metadata": {},
   "source": [
    "---"
   ]
  },
  {
   "cell_type": "markdown",
   "id": "9fe7394c-b3b9-4d80-bced-e91933ec133e",
   "metadata": {},
   "source": [
    "## The Classical Gram-Schmidt Process\n",
    "\n",
    "Let $S$ be a subspace of $\\mathbb{R}^n$ and let $v_1,\\ldots,v_m$ be a basis of $S$; that is, $v_1,\\ldots,v_m$ are linearly independent and span $S$, which implies that $\\dim S = m$.\n",
    "\n",
    "Gram-Schmidt will produce orthonormal vectors $q_1,\\ldots,q_m$ that form a basis of $S$ and satisfy\n",
    "\n",
    "$$\n",
    "\\begin{eqnarray}\n",
    "\\mathrm{span}\\{q_1\\} &=& \\mathrm{span}\\{v_1\\} \\\\\n",
    "\\mathrm{span}\\{q_1,q_2\\} &=& \\mathrm{span}\\{v_1,v_2\\} \\\\\n",
    "\\mathrm{span}\\{q_1,q_2,q_3\\} &=& \\mathrm{span}\\{v_1,v_2,v_3\\} \\\\\n",
    "&\\vdots& \\\\\n",
    "\\mathrm{span}\\{q_1,q_2,\\ldots,q_m\\} &=& \\mathrm{span}\\{v_1,v_2,\\ldots,v_m\\}. \\\\\n",
    "\\end{eqnarray}\n",
    "$$"
   ]
  },
  {
   "cell_type": "markdown",
   "id": "labeled-advertiser",
   "metadata": {},
   "source": [
    "---\n",
    "\n",
    "### Step 1\n",
    "\n",
    "Since $\\mathrm{span}\\{q_1\\} = \\mathrm{span}\\{v_1\\}$, we let\n",
    "\n",
    "$$\n",
    "r_{11} = \\|v_1\\|_2, \\quad q_1 = \\frac{v_1}{r_{11}}.\n",
    "$$"
   ]
  },
  {
   "cell_type": "markdown",
   "id": "outside-portugal",
   "metadata": {},
   "source": [
    "---\n",
    "\n",
    "### Step 2\n",
    "\n",
    "Next, we let $w$ be the projection of $v_2$ onto $\\mathrm{span}\\{q_1\\}$:\n",
    "\n",
    "$$\n",
    "w = \\begin{bmatrix} q_1 \\end{bmatrix} \\begin{bmatrix} q_1 \\end{bmatrix}^T v_2 = \\langle q_1, v_2 \\rangle q_1.\n",
    "$$\n",
    "\n",
    "Then, we let $\\hat{q}_2 = v_2 - w$. Notice that $\\hat{q}_2$ is orthogonal to $q_1$ since\n",
    "\n",
    "$$\n",
    "\\begin{align}\n",
    "\\langle q_1, \\hat{q}_2 \\rangle \n",
    "&= \\langle q_1, v_2 - \\langle q_1, v_2 \\rangle q_1 \\rangle \\\\\n",
    "&= \\langle q_1, v_2 \\rangle - \\langle q_1, v_2 \\rangle \\langle q_1, q_1 \\rangle \\\\\n",
    "&= \\langle q_1, v_2 \\rangle - \\langle q_1, v_2 \\rangle \\\\\n",
    "&= 0.\n",
    "\\end{align}\n",
    "$$\n",
    "\n",
    "Therefore, we let\n",
    "\n",
    "$$\n",
    "r_{12} = \\langle q_1, v_2 \\rangle, \\quad \\hat{q}_2 = v_2 - r_{12} q_1, \\quad r_{22} = \\|\\hat{q}_2\\|_2, \\quad q_2 = \\frac{\\hat{q}_2}{r_{22}},\n",
    "$$\n",
    "\n",
    "and we have $\\mathrm{span}\\{q_1, q_2\\} = \\mathrm{span}\\{v_1, v_2\\}$ (see text for details)."
   ]
  },
  {
   "cell_type": "markdown",
   "id": "exact-passenger",
   "metadata": {},
   "source": [
    "---\n",
    "\n",
    "### Step $k$\n",
    "\n",
    "Now suppose we have orthonormal vectors $q_1,\\ldots,q_{k-1}$ that satisfy\n",
    "\n",
    "$$\n",
    "\\mathrm{span}\\{q_1,\\ldots,q_i\\} = \\mathrm{span}\\{v_1,\\ldots,v_i\\}, \\quad i=1,\\ldots,k-1.\n",
    "$$\n",
    "\n",
    "We let $w$ be the projection of $v_k$ onto $\\mathrm{span}\\{q_1,\\ldots,q_{k-1}\\}$,\n",
    "\n",
    "$$\n",
    "w =\n",
    "\\begin{bmatrix} q_1 & \\cdots & q_{k-1} \\end{bmatrix}\n",
    "\\begin{bmatrix} q_1 & \\cdots & q_{k-1} \\end{bmatrix}^T v_k =\n",
    "\\langle q_1, v_k \\rangle q_1 + \\cdots + \\langle q_{k-1}, v_k \\rangle q_{k-1},\n",
    "$$\n",
    "\n",
    "and we let $\\hat{q}_k = v_k - w$. Then $\\hat{q}_k$ is orthogonal to $q_1,\\ldots,q_{k-1}$.\n",
    "\n",
    "Therefore, letting\n",
    "\n",
    "$$\n",
    "r_{ik} = \\langle q_i, v_k \\rangle, \\quad i=1,\\ldots,k-1,\n",
    "$$\n",
    "\n",
    "we have\n",
    "\n",
    "$$\n",
    "\\hat{q}_k = v_k - \\sum_{i=1}^{k-1} r_{ik} q_i.\n",
    "$$\n",
    "\n",
    "Finally, we let\n",
    "\n",
    "$$\n",
    "r_{kk} = \\|\\hat{q}_k\\|_2, \\quad q_k = \\frac{\\hat{q}_k}{r_{kk}},\n",
    "$$\n",
    "\n",
    "and we have $\\mathrm{span}\\{q_1, \\ldots, q_k\\} = \\mathrm{span}\\{v_1, \\ldots, v_k\\}$."
   ]
  },
  {
   "cell_type": "markdown",
   "id": "646e2833-ecb8-40bd-819b-fef2a712ae58",
   "metadata": {},
   "source": [
    "---"
   ]
  },
  {
   "cell_type": "markdown",
   "id": "9e46a3f7-ce30-43a3-ab02-376f9aaac920",
   "metadata": {},
   "source": [
    "## An implementation of Gram-Schmidt"
   ]
  },
  {
   "cell_type": "code",
   "execution_count": null,
   "id": "b721aceb-bdff-43f8-bfc7-8e7c820dcc68",
   "metadata": {},
   "outputs": [],
   "source": [
    "function gram_schmidt(V)\n",
    "    n, m = size(V)\n",
    "    \n",
    "    Q = copy(V)\n",
    "    R = zeros(m, m)\n",
    "\n",
    "    for k=1:m\n",
    "        # R[i,k] = dot(Q[:,i],Q[:,k]), for i=1:k-1\n",
    "        for i=1:k-1\n",
    "            for j=1:n\n",
    "                R[i,k] += Q[j,i]*Q[j,k]\n",
    "            end\n",
    "        end\n",
    "        \n",
    "        # Q[:,k] = Q[:,k] - sum(R[i,k]*Q[:,i] for i=1:k-1)\n",
    "        for i=1:k-1\n",
    "            for j=1:n\n",
    "                Q[j,k] -= R[i,k]*Q[j,i]\n",
    "            end\n",
    "        end\n",
    "        \n",
    "        R[k,k] = norm(Q[:,k])\n",
    "        Q[:,k] /= R[k,k]\n",
    "    end\n",
    "    \n",
    "    return Q, R\n",
    "end"
   ]
  },
  {
   "cell_type": "code",
   "execution_count": null,
   "id": "saving-symbol",
   "metadata": {},
   "outputs": [],
   "source": [
    "n, m = 5, 3\n",
    "A = randn(n, m)\n",
    "Q, R = gram_schmidt(A);"
   ]
  },
  {
   "cell_type": "code",
   "execution_count": null,
   "id": "wooden-union",
   "metadata": {},
   "outputs": [],
   "source": [
    "Q"
   ]
  },
  {
   "cell_type": "code",
   "execution_count": null,
   "id": "overall-estimate",
   "metadata": {},
   "outputs": [],
   "source": [
    "Q'Q"
   ]
  },
  {
   "cell_type": "code",
   "execution_count": null,
   "id": "toxic-internship",
   "metadata": {},
   "outputs": [],
   "source": [
    "R"
   ]
  },
  {
   "cell_type": "code",
   "execution_count": null,
   "id": "e75004cf-8962-49c1-84bc-0b8f5cacd57d",
   "metadata": {},
   "outputs": [],
   "source": [
    "A ≈ Q*R"
   ]
  },
  {
   "cell_type": "markdown",
   "id": "e3ece577-37c1-485f-8bdd-970e634dfeb7",
   "metadata": {},
   "source": [
    "---"
   ]
  },
  {
   "cell_type": "markdown",
   "id": "3b57729e-c31f-4f71-95fd-501f4269f584",
   "metadata": {},
   "source": [
    "## Gram-Schmidt equals $QR$\n",
    "\n",
    "Note that\n",
    "\n",
    "$$\n",
    "\\begin{eqnarray}\n",
    "v_1 &=& r_{11} q_1 \\\\\n",
    "v_2 &=& r_{12} q_1 + r_{22} q_2 \\\\\n",
    "&\\vdots& \\\\\n",
    "v_m &=& r_{1m} q_1 + r_{2m} q_2 + \\cdots + r_{mm} q_m.\n",
    "\\end{eqnarray}\n",
    "$$\n",
    "\n",
    "\n",
    "\n",
    "Thus, if we let\n",
    "\n",
    "$$\n",
    "\\begin{eqnarray}\n",
    "V &=& \\begin{bmatrix} v_1 & \\cdots & v_m \\end{bmatrix} \\in \\mathbb{R}^{n \\times m}, \\\\\\\\\n",
    "Q &=& \\begin{bmatrix} q_1 & \\cdots & q_m \\end{bmatrix} \\in \\mathbb{R}^{n \\times m}, \\\\\\\\\n",
    "R &=&\n",
    "\\begin{bmatrix}\n",
    "r_{11} & r_{12} & \\cdots & r_{1m} \\\\\n",
    "       & r_{22} & \\cdots & r_{2m} \\\\\n",
    "       &        & \\ddots & \\vdots \\\\\n",
    "       &        &        & r_{mm}\n",
    "\\end{bmatrix} \\in \\mathbb{R}^{m \\times m},\n",
    "\\end{eqnarray}\n",
    "$$\n",
    "\n",
    "we have that\n",
    "\n",
    "$$\n",
    "V = Q R.\n",
    "$$\n",
    "\n",
    "Therefore, we have another way to compute the $QR$ decomposition of a matrix, and any method for computing a $QR$ decomposition provides a way to orthogonalize a set of vectors."
   ]
  },
  {
   "cell_type": "markdown",
   "id": "d0610ebb-eebe-4749-86ce-baa7d2acac0b",
   "metadata": {},
   "source": [
    "---"
   ]
  },
  {
   "cell_type": "markdown",
   "id": "74142e4f-6c01-4257-bc95-8e5f4103a8ab",
   "metadata": {},
   "source": [
    "## The Gram-Schmidt Process and Roundoff Errors\n",
    "\n",
    "We expect $Q^T Q = I$ in exact arithmetic. Thus, we can measure the deviation from orthonormality due to roundoff errors by computing\n",
    "\n",
    "$$\n",
    "\\|I - Q^T Q\\|_2.\n",
    "$$"
   ]
  },
  {
   "cell_type": "code",
   "execution_count": null,
   "id": "b812c294-12b4-4768-a10b-e8042a6c595b",
   "metadata": {},
   "outputs": [],
   "source": [
    "# Create a Vandermonde matrix\n",
    "vandermonde(n,m) = [(j/m)^(i-1) for i=1:n, j=1:m]\n",
    "\n",
    "n, m = 5, 3\n",
    "V = vandermonde(n, m)"
   ]
  },
  {
   "cell_type": "code",
   "execution_count": null,
   "id": "fb973691-50ea-424f-a615-828c0fa68794",
   "metadata": {},
   "outputs": [],
   "source": [
    "using Printf\n",
    "\n",
    "@printf(\"%3s %3s %10s %14s %14s\\n\", \"n\", \"m\", \"cond(V)\", \"Gram-Schmidt\", \"Householder\")\n",
    "for (n, m) in [(6,4), (9,6), (12,8), (15,10), (18,12)]\n",
    "    V = vandermonde(n,m)\n",
    "    Q, R = gram_schmidt(V)\n",
    "    Q̂, R̂ = condensed_qr(V)\n",
    "    @printf(\"%3d %3d %10.1e %14.1e %14.1e\\n\", n, m, cond(V), \n",
    "        opnorm(I - Q'Q), opnorm(I - Q̂'Q̂))\n",
    "end"
   ]
  },
  {
   "cell_type": "markdown",
   "id": "upper-shannon",
   "metadata": {},
   "source": [
    "---"
   ]
  },
  {
   "cell_type": "markdown",
   "id": "restricted-story",
   "metadata": {},
   "source": [
    "## Modified Gram-Schmidt\n",
    "\n",
    "The computation\n",
    "\n",
    "```julia\n",
    "for i=1:k-1\n",
    "    for j=1:n\n",
    "        R[i,k] += Q[j,i]*Q[j,k]\n",
    "    end\n",
    "end\n",
    "for i=1:k-1\n",
    "    for j=1:n\n",
    "        Q[j,k] -= R[i,k]*Q[j,i]\n",
    "    end\n",
    "end\n",
    "```\n",
    "\n",
    "produces the exact same output as the computation\n",
    "\n",
    "```julia\n",
    "for i=1:k-1\n",
    "    for j=1:n\n",
    "        R[i,k] += Q[j,i]*Q[j,k]\n",
    "    end\n",
    "    for j=1:n\n",
    "        Q[j,k] -= R[i,k]*Q[j,i]\n",
    "    end\n",
    "end\n",
    "```\n",
    "\n",
    "in exact arithmetic. In the presence of roundoff errors, the latter computation does a better job in terms of orthogonality."
   ]
  },
  {
   "cell_type": "code",
   "execution_count": null,
   "id": "automatic-reduction",
   "metadata": {},
   "outputs": [],
   "source": [
    "function modified_gram_schmidt(V)\n",
    "    n, m = size(V)\n",
    "    \n",
    "    Q = copy(V)\n",
    "    R = zeros(m, m)\n",
    "\n",
    "    for k=1:m\n",
    "        for i=1:k-1\n",
    "            for j=1:n\n",
    "                R[i,k] += Q[j,i]*Q[j,k]\n",
    "            end\n",
    "            for j=1:n\n",
    "                Q[j,k] -= R[i,k]*Q[j,i]\n",
    "            end\n",
    "        end\n",
    "        \n",
    "        R[k,k] = norm(Q[:,k])\n",
    "        Q[:,k] /= R[k,k]\n",
    "    end\n",
    "    \n",
    "    return Q, R\n",
    "end"
   ]
  },
  {
   "cell_type": "code",
   "execution_count": null,
   "id": "scenic-sacramento",
   "metadata": {},
   "outputs": [],
   "source": [
    "using Printf\n",
    "\n",
    "@printf(\"%3s %3s %10s %14s %14s %14s\\n\", \"n\", \"m\", \"cond(V)\", \n",
    "        \"Gram-Schmidt\", \"Modified G-S\", \"Householder\")\n",
    "for (n, m) in [(6,4), (9,6), (12,8), (15,10), (18,12)]\n",
    "    V = vandermonde(n,m)\n",
    "    Q, R = gram_schmidt(V)\n",
    "    Qm, Rm = modified_gram_schmidt(V)\n",
    "    Q̂, R̂ = condensed_qr(V)\n",
    "    @printf(\"%3d %3d %10.1e %14.1e %14.1e %14.1e\\n\", n, m, cond(V), \n",
    "        opnorm(I - Q'Q), opnorm(I - Qm'Qm), opnorm(I - Q̂'Q̂))\n",
    "end"
   ]
  },
  {
   "cell_type": "markdown",
   "id": "horizontal-force",
   "metadata": {},
   "source": [
    "---"
   ]
  },
  {
   "cell_type": "markdown",
   "id": "intense-thompson",
   "metadata": {},
   "source": [
    "## Gram-Schmidt with Reorthogonalization\n",
    "\n"
   ]
  },
  {
   "cell_type": "code",
   "execution_count": null,
   "id": "emotional-merit",
   "metadata": {},
   "outputs": [],
   "source": [
    "function orthogonalize!(s, Q, k, n)\n",
    "    for i=1:k-1\n",
    "        s[i] = 0\n",
    "        for j=1:n\n",
    "            s[i] += Q[j,i]*Q[j,k]\n",
    "        end\n",
    "    end\n",
    "    for i=1:k-1\n",
    "        for j=1:n\n",
    "            Q[j,k] -= s[i]*Q[j,i]\n",
    "        end\n",
    "    end\n",
    "end\n",
    "\n",
    "function gram_schmidt(A; num_orthog=1)\n",
    "    n, m = size(A)\n",
    "    \n",
    "    s = Vector{Float64}(undef, m-1)\n",
    "    R = zeros(m, m)\n",
    "    Q = copy(A)\n",
    "    \n",
    "    for k=1:m\n",
    "        \n",
    "        for j=1:num_orthog\n",
    "            orthogonalize!(s, Q, k, n)\n",
    "            R[1:k-1,k] += s[1:k-1]\n",
    "        end\n",
    "        \n",
    "        R[k,k] = norm(Q[:,k])\n",
    "        Q[:,k] /= R[k,k]\n",
    "    end\n",
    "    \n",
    "    return Q, UpperTriangular(R)\n",
    "end"
   ]
  },
  {
   "cell_type": "code",
   "execution_count": null,
   "id": "decent-integrity",
   "metadata": {},
   "outputs": [],
   "source": [
    "n, m = 50, 30\n",
    "A = randn(n, m)\n",
    "Q, R = gram_schmidt(A, num_orthog=2)\n",
    "A ≈ Q*R"
   ]
  },
  {
   "cell_type": "code",
   "execution_count": null,
   "id": "tropical-bibliography",
   "metadata": {},
   "outputs": [],
   "source": [
    "using Printf\n",
    "\n",
    "@printf(\"%3s %3s %10s %14s %14s %14s %14s\\n\", \"n\", \"m\", \"cond(V)\", \n",
    "        \"Gram-Schmidt\", \"Modified G-S\", \"Reorthog\", \"Householder\")\n",
    "for (n, m) in [(6,4), (9,6), (12,8), (15,10), (18,12)]\n",
    "    V = vandermonde(n,m)\n",
    "    Q, R = gram_schmidt(V)\n",
    "    Qm, Rm = modified_gram_schmidt(V)\n",
    "    Qr, Rr = gram_schmidt(V, num_orthog=2)\n",
    "    Q̂, R̂ = condensed_qr(V)\n",
    "    @printf(\"%3d %3d %10.1e %14.1e %14.1e %14.1e %14.1e\\n\", n, m, cond(V), \n",
    "        opnorm(I - Q'Q), opnorm(I - Qm'Qm), opnorm(I - Qr'Qr), opnorm(I - Q̂'Q̂))\n",
    "end"
   ]
  },
  {
   "cell_type": "markdown",
   "id": "revised-malta",
   "metadata": {},
   "source": [
    "---"
   ]
  },
  {
   "cell_type": "markdown",
   "id": "organized-knife",
   "metadata": {},
   "source": [
    "## Flop counts\n",
    "\n",
    "1. $QR$ by Householder reflectors and forming $Q$ requires about $4nm^2 - 4m^3/3$ flops.\n",
    "\n",
    "2. Gram-Schmidt with reorthogonalization requires about $4nm^2$ flops.\n",
    "\n",
    "Thus, the method by reflectors requires about $4m^3/3$ fewer flops than Gram-Schmidt.\n",
    "\n",
    "However, Gram-Schmidt has the advantage that the vectors $v_1,\\ldots,v_m$ do not all need to be known from the beginning; an example of this situation is the Arnoldi process for computing eigenvectors (see Chapter 6 in the text) in which the vector $v_k$ cannot be determined until after $q_1,\\ldots,q_{k-1}$ have been computed."
   ]
  },
  {
   "cell_type": "markdown",
   "id": "surface-status",
   "metadata": {},
   "source": [
    "---"
   ]
  }
 ],
 "metadata": {
  "@webio": {
   "lastCommId": null,
   "lastKernelId": null
  },
  "kernelspec": {
   "display_name": "Julia 1.6.3",
   "language": "julia",
   "name": "julia-1.6"
  },
  "language_info": {
   "file_extension": ".jl",
   "mimetype": "application/julia",
   "name": "julia",
   "version": "1.6.3"
  }
 },
 "nbformat": 4,
 "nbformat_minor": 5
}
