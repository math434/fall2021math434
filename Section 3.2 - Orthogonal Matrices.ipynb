{
 "cells": [
  {
   "cell_type": "markdown",
   "metadata": {},
   "source": [
    "---\n",
    "# Section 3.2: Orthogonal Matrices\n",
    "---"
   ]
  },
  {
   "cell_type": "markdown",
   "metadata": {},
   "source": [
    "## Inner-product notation\n",
    "\n",
    "We will use the following notation for the **inner-product** between vectors $x, y \\in \\mathbb{R}^n$:\n",
    "\n",
    "$$\n",
    "\\langle x, y \\rangle = \\sum_{i=1}^n x_i y_i = x^T y = \\|x\\|_2 \\|y\\|_2 \\cos\\theta,\n",
    "$$\n",
    "\n",
    "where $0 \\leq \\theta \\leq \\pi$ is the **angle** between $x$ and $y$.\n",
    "\n",
    "**Note:** $\\|x\\|_2 = \\sqrt{\\langle x, x \\rangle}$."
   ]
  },
  {
   "cell_type": "markdown",
   "metadata": {},
   "source": [
    "---"
   ]
  },
  {
   "cell_type": "markdown",
   "metadata": {},
   "source": [
    "## Orthogonal matrix definition\n",
    "\n",
    "$Q \\in \\mathbb{R}^{n \\times n}$ is **orthogonal** if the columns of $Q$ are:\n",
    "\n",
    "1. **unit-length**: \n",
    "$$\n",
    "\\|q_i\\|_2 = 1, \\qquad \\forall i,\n",
    "$$\n",
    "2. **mutually orthogonal**: \n",
    "$$\n",
    "\\langle q_i, q_j \\rangle = 0, \\qquad i \\neq j\n",
    "$$\n",
    "\n",
    "This is equivalent to saying that\n",
    "\n",
    "$$Q^T Q = I$$\n",
    "\n",
    "which is equivalent to\n",
    "\n",
    "$$Q^{-1} = Q^T.$$\n",
    "\n",
    "The rows of $Q$ are also unit-length and mutually orthogonal since $QQ^T = I$."
   ]
  },
  {
   "cell_type": "markdown",
   "metadata": {},
   "source": [
    "---"
   ]
  },
  {
   "cell_type": "markdown",
   "metadata": {},
   "source": [
    "## Exercise\n",
    "\n",
    "1. Prove that the product of orthogonal matrices is orthogonal.\n",
    "\n",
    "2. Prove that the transpose of an othogonal matrix is orthogonal."
   ]
  },
  {
   "cell_type": "markdown",
   "metadata": {},
   "source": [
    "### Part 1\n",
    "\n",
    "Suppose that $Q_i \\in \\mathbb{R}^{n \\times n}$ is orthogonal for $i = 1,\\ldots,k$. Let\n",
    "\n",
    "$$\n",
    "Q = Q_1 Q_2 \\cdots Q_k.\n",
    "$$\n",
    "\n",
    "Now we want to show that $Q$ is orthogonal. To show this, we compute\n",
    "\n",
    "\\begin{align}\n",
    "Q^T Q \n",
    "& = (Q_1 Q_2 \\cdots Q_k)^T (Q_1 Q_2 \\cdots Q_k) \\\\\n",
    "& = (Q_k^T \\cdots Q_2^T Q_1^T) (Q_1 Q_2 \\cdots Q_k) \\\\\n",
    "& = Q_k^T \\cdots Q_2^T (Q_1^T Q_1) Q_2 \\cdots Q_k \\\\\n",
    "& = Q_k^T \\cdots Q_2^T I Q_2 \\cdots Q_k \\\\\n",
    "& = Q_k^T \\cdots Q_3^T (Q_2^T Q_2) Q_3 \\cdots Q_k \\\\\n",
    "& = Q_k^T \\cdots Q_3^T Q_3 \\cdots Q_k \\\\\n",
    "& \\quad \\vdots \\\\\n",
    "& = Q_k^T Q_k \\\\\n",
    "& = I.\n",
    "\\end{align}\n",
    "\n",
    "Therefore, $Q^T Q = I$, so $Q$ is orthogonal."
   ]
  },
  {
   "cell_type": "markdown",
   "metadata": {},
   "source": [
    "### Part 2\n",
    "\n",
    "Suppose that $Q \\in \\mathbb{R}^{n \\times n}$ is orthogonal. To show that $Q^T$ is orthogonal, we need to show that $(Q^T)^T (Q^T) = I$. So, we compute\n",
    "\n",
    "$$\n",
    "(Q^T)^T (Q^T) = Q Q^T = Q Q^{-1} = I.\n",
    "$$\n",
    "\n",
    "Therefore, $Q^T$ is also an orthogonal matrix."
   ]
  },
  {
   "cell_type": "markdown",
   "metadata": {},
   "source": [
    "---"
   ]
  },
  {
   "cell_type": "markdown",
   "metadata": {},
   "source": [
    "> ## Theorem:\n",
    ">\n",
    "> If $Q \\in \\mathbb{R}^{n \\times n}$ is orthogonal, then:\n",
    ">\n",
    "> 1. $\\langle Qx, Qy \\rangle = \\langle x, y \\rangle$\n",
    ">\n",
    "> 2. $\\|Qx\\|_2 = \\|x\\|_2$\n",
    ">\n",
    "> This theorem states that any **orthogonal transformation**, $x \\mapsto Qx$, preserve angles and lengths."
   ]
  },
  {
   "cell_type": "markdown",
   "metadata": {},
   "source": [
    "---"
   ]
  },
  {
   "cell_type": "markdown",
   "metadata": {},
   "source": [
    "## Exercise:\n",
    "\n",
    "Prove the theorem."
   ]
  },
  {
   "cell_type": "markdown",
   "metadata": {},
   "source": [
    "### Part 1\n",
    "\n",
    "Since $Q$ is an orthogonal matrix, we have\n",
    "\n",
    "\\begin{align}\n",
    "\\langle Qx, Qy \\rangle \n",
    "&= (Qx)^T (Qy) \\\\\n",
    "&= x^T Q^T Q y \\\\\n",
    "&= x^T I y \\\\\n",
    "&= x^T y \\\\\n",
    "&= \\langle x, y \\rangle.\n",
    "\\end{align}"
   ]
  },
  {
   "cell_type": "markdown",
   "metadata": {},
   "source": [
    "### Part 2\n",
    "\n",
    "Using part 1, we have\n",
    "\n",
    "\\begin{align}\n",
    "\\| Q x \\|_2 \n",
    "&= \\sqrt{ \\langle Q x, Q x \\rangle } \\\\\n",
    "&= \\sqrt{ \\langle x, x \\rangle } \\\\\n",
    "&= \\| x \\|_2. \\\\\n",
    "\\end{align}"
   ]
  },
  {
   "cell_type": "markdown",
   "metadata": {},
   "source": [
    "---"
   ]
  },
  {
   "cell_type": "markdown",
   "metadata": {},
   "source": [
    "## Rotation matrices\n",
    "\n",
    "A $2 \\times 2$ rotation matrix has the form\n",
    "\n",
    "$$\n",
    "Q = \\begin{bmatrix}\n",
    "\\cos\\theta & -\\sin\\theta \\\\\n",
    "\\sin\\theta & \\cos\\theta\n",
    "\\end{bmatrix}.\n",
    "$$\n",
    "\n",
    "We can use rotation matrices to introduce zeros into vectors.\n"
   ]
  },
  {
   "cell_type": "markdown",
   "metadata": {},
   "source": [
    "---"
   ]
  },
  {
   "cell_type": "markdown",
   "metadata": {},
   "source": [
    "## Exercise\n",
    "\n",
    "1. Prove that $2 \\times 2$ rotation matrices are orthogonal.\n",
    "\n",
    "2. Find a rotation matrix $Q$ such that\n",
    "$$\n",
    "Q^T \\begin{bmatrix} x_1 \\\\ x_2 \\end{bmatrix} = \\begin{bmatrix} y_1 \\\\ 0 \\end{bmatrix}\n",
    "$$\n",
    "where $y_1 \\geq 0$."
   ]
  },
  {
   "cell_type": "markdown",
   "metadata": {},
   "source": [
    "### Part 1\n",
    "\n",
    "Let $Q$ be a $2 \\times 2$ rotation matrix, as above. Then\n",
    "\n",
    "$$\n",
    "\\begin{align}\n",
    "Q^T Q\n",
    "&= \\begin{bmatrix}\n",
    "\\cos\\theta & -\\sin\\theta \\\\\n",
    "\\sin\\theta & \\cos\\theta\n",
    "\\end{bmatrix}^T\n",
    "\\begin{bmatrix}\n",
    "\\cos\\theta & -\\sin\\theta \\\\\n",
    "\\sin\\theta & \\cos\\theta\n",
    "\\end{bmatrix} \\\\\n",
    "&= \\begin{bmatrix}\n",
    "\\cos\\theta & \\sin\\theta \\\\\n",
    "-\\sin\\theta & \\cos\\theta\n",
    "\\end{bmatrix}\n",
    "\\begin{bmatrix}\n",
    "\\cos\\theta & -\\sin\\theta \\\\\n",
    "\\sin\\theta & \\cos\\theta\n",
    "\\end{bmatrix} \\\\\n",
    "&= \\begin{bmatrix}\n",
    "\\cos^2\\theta + \\sin^2\\theta & -\\cos\\theta\\sin\\theta + \\sin\\theta\\cos\\theta \\\\\n",
    "-\\sin\\theta\\cos\\theta + \\cos\\theta\\sin\\theta & \\sin^2\\theta + \\cos^2\\theta\n",
    "\\end{bmatrix} \\\\\n",
    "&= \\begin{bmatrix}\n",
    "1 & 0 \\\\\n",
    "0 & 1\n",
    "\\end{bmatrix} \\\\\n",
    "&= I.\n",
    "\\end{align}\n",
    "$$\n",
    "\n",
    "Therefore, $Q$ is an orthogonal matrix.\n"
   ]
  },
  {
   "cell_type": "markdown",
   "metadata": {},
   "source": [
    "### Part 2\n",
    "\n",
    "Let\n",
    "\n",
    "$$\n",
    "Q = \n",
    "\\begin{bmatrix}\n",
    "c & -s \\\\ s & c\n",
    "\\end{bmatrix},\n",
    "$$\n",
    "\n",
    "where $c^2 + s^2 = 1$. Then\n",
    "\n",
    "$$\n",
    "Q^T \\begin{bmatrix} x_1 \\\\ x_2 \\end{bmatrix} = \\begin{bmatrix} y_1 \\\\ 0 \\end{bmatrix}\n",
    "$$\n",
    "\n",
    "implies that\n",
    "\n",
    "$$\n",
    "\\begin{bmatrix}\n",
    "c & -s \\\\ s & c\n",
    "\\end{bmatrix}^T\n",
    "\\begin{bmatrix} x_1 \\\\ x_2 \\end{bmatrix} = \\begin{bmatrix} y_1 \\\\ 0 \\end{bmatrix}.\n",
    "$$"
   ]
  },
  {
   "cell_type": "markdown",
   "metadata": {},
   "source": [
    "Thus, \n",
    "\n",
    "$$\n",
    "\\begin{bmatrix}\n",
    "c x_1 + s x_2 \\\\ -s x_1 + c x_2\n",
    "\\end{bmatrix} = \\begin{bmatrix} y_1 \\\\ 0 \\end{bmatrix}.\n",
    "$$"
   ]
  },
  {
   "cell_type": "markdown",
   "metadata": {},
   "source": [
    "Also, since $Q^T$ is orthogonal,\n",
    "\n",
    "$$\n",
    "\\left\\| \\begin{bmatrix} x_1 \\\\ x_2 \\end{bmatrix} \\right \\|_2 = \\left\\| \\begin{bmatrix} y_1 \\\\ 0 \\end{bmatrix} \\right \\|_2,\n",
    "$$\n",
    "\n",
    "which implies that $y_1 = \\sqrt{x_1^2 + x_2^2}$ since $y_1 \\ge 0$."
   ]
  },
  {
   "cell_type": "markdown",
   "metadata": {},
   "source": [
    "If $x = 0$, then $y_1 = \\sqrt{x_1^2 + x_2^2} = 0$, and we would let $c = 1$ and $s = 0$.\n",
    "\n",
    "Now, we assume that $x \\ne 0$. Thus, $y_1 > 0$.\n",
    "\n",
    "Multiply the first equation by $s$ and the second equation by $c$. Then,\n",
    "\n",
    "\\begin{align}\n",
    "c s x_1 + s^2 x_2 &= s y_1 \\\\\n",
    "-c s x_1 + c^2 x_2 &= 0. \\\\\n",
    "\\end{align}\n",
    "\n",
    "Summing these equations gives us\n",
    "\n",
    "$$\n",
    "(s^2 + c^2) x_2 = s y_1.\n",
    "$$\n",
    "\n",
    "Since we want $s^2 + c^2 = 1$, we have $x_2 = s y_1$, so\n",
    "\n",
    "$$\n",
    "s = \\frac{x_2}{y_1}.\n",
    "$$\n",
    "\n",
    "In a similar way, we find that\n",
    "\n",
    "$$\n",
    "c = \\frac{x_1}{y_1}.\n",
    "$$"
   ]
  },
  {
   "cell_type": "markdown",
   "metadata": {},
   "source": [
    "---\n",
    "\n",
    "Another way to find $s$ and $c$ is to rewrite\n",
    "\n",
    "$$\n",
    "\\begin{bmatrix}\n",
    "c x_1 + s x_2 \\\\ -s x_1 + c x_2\n",
    "\\end{bmatrix} = \\begin{bmatrix} y_1 \\\\ 0 \\end{bmatrix}\n",
    "$$\n",
    "\n",
    "as\n",
    "\n",
    "$$\n",
    "\\begin{bmatrix}\n",
    "x_1 & x_2 \\\\ x_2 & -x_1\n",
    "\\end{bmatrix} \\begin{bmatrix} c \\\\ s \\end{bmatrix} = \\begin{bmatrix} y_1 \\\\ 0 \\end{bmatrix}.\n",
    "$$\n",
    "\n",
    "Then, just solve the above system for $c$ and $s$ by multiplying both sides by the inverse of the coefficient matrix.\n",
    "\n",
    "Since\n",
    "\n",
    "$$\n",
    "\\begin{bmatrix}\n",
    "a & b \\\\ c & d\n",
    "\\end{bmatrix}^{-1} = \n",
    "\\frac{1}{ad - bc}\n",
    "\\begin{bmatrix}\n",
    "d & -b \\\\ -c & a\n",
    "\\end{bmatrix}, \n",
    "$$\n",
    "\n",
    "we have that\n",
    "\n",
    "$$\n",
    "\\begin{bmatrix}\n",
    "x_1 & x_2 \\\\ x_2 & -x_1\n",
    "\\end{bmatrix}^{-1} = \n",
    "\\frac{1}{-x_1^2 - x_2^2}\n",
    "\\begin{bmatrix}\n",
    "-x_1 & -x_2 \\\\ -x_2 & x_1\n",
    "\\end{bmatrix} = \n",
    "\\frac{1}{x_1^2 + x_2^2}\n",
    "\\begin{bmatrix}\n",
    "x_1 & x_2 \\\\ x_2 & -x_1\n",
    "\\end{bmatrix}.\n",
    "$$\n",
    "\n",
    "\n",
    "Therefore,\n",
    "\n",
    "$$\n",
    "\\begin{bmatrix}\n",
    "c \\\\ s\n",
    "\\end{bmatrix} = \n",
    "\\frac{1}{x_1^2 + x_2^2}\n",
    "\\begin{bmatrix}\n",
    "x_1 & x_2 \\\\ x_2 & -x_1\n",
    "\\end{bmatrix}\n",
    "\\begin{bmatrix}\n",
    "y_1 \\\\ 0\n",
    "\\end{bmatrix} =\n",
    "\\frac{1}{y_1^2}\n",
    "\\begin{bmatrix}\n",
    "x_1 y_1 \\\\ x_2 y_1\n",
    "\\end{bmatrix} =\n",
    "\\begin{bmatrix}\n",
    "x_1/y_1 \\\\ x_2/y_1\n",
    "\\end{bmatrix}.\n",
    "$$"
   ]
  },
  {
   "cell_type": "code",
   "execution_count": null,
   "metadata": {},
   "outputs": [],
   "source": [
    "using LinearAlgebra"
   ]
  },
  {
   "cell_type": "code",
   "execution_count": null,
   "metadata": {},
   "outputs": [],
   "source": [
    "x = randn(2)"
   ]
  },
  {
   "cell_type": "code",
   "execution_count": null,
   "metadata": {},
   "outputs": [],
   "source": [
    "y1 = norm(x)"
   ]
  },
  {
   "cell_type": "code",
   "execution_count": null,
   "metadata": {},
   "outputs": [],
   "source": [
    "c, s = x[1]/y1, x[2]/y1"
   ]
  },
  {
   "cell_type": "code",
   "execution_count": null,
   "metadata": {},
   "outputs": [],
   "source": [
    "c, s = x/norm(x)"
   ]
  },
  {
   "cell_type": "code",
   "execution_count": null,
   "metadata": {},
   "outputs": [],
   "source": [
    "c^2 + s^2"
   ]
  },
  {
   "cell_type": "code",
   "execution_count": null,
   "metadata": {},
   "outputs": [],
   "source": [
    "Q = [c -s; s c]"
   ]
  },
  {
   "cell_type": "code",
   "execution_count": null,
   "metadata": {},
   "outputs": [],
   "source": [
    "Q'x"
   ]
  },
  {
   "cell_type": "markdown",
   "metadata": {},
   "source": [
    "---"
   ]
  },
  {
   "cell_type": "markdown",
   "metadata": {},
   "source": [
    "## $QR$-decomposition of a $2 \\times 2$ matrix $A$\n",
    "\n",
    "Suppose \n",
    "\n",
    "$$\n",
    "A = \\begin{bmatrix}\n",
    "a_{11} & a_{12} \\\\\n",
    "a_{21} & a_{22}\n",
    "\\end{bmatrix}.\n",
    "$$\n",
    "\n",
    "Let $Q$ be the rotation matrix that introduces a zero in the first column of $A$:\n",
    "\n",
    "$$\n",
    "Q^T \\begin{bmatrix} a_{11} \\\\ a_{21} \\end{bmatrix} = \\begin{bmatrix} r_{11} \\\\ 0 \\end{bmatrix}.\n",
    "$$\n",
    "\n",
    "Let\n",
    "\n",
    "$$\n",
    "\\begin{bmatrix} r_{12} \\\\ r_{22} \\end{bmatrix} = Q^T \\begin{bmatrix} a_{21} \\\\ a_{22} \\end{bmatrix}.\n",
    "$$\n",
    "\n",
    "Let\n",
    "\n",
    "$$\n",
    "R = \\begin{bmatrix}\n",
    "r_{11} & r_{12} \\\\\n",
    "0 & r_{22}\n",
    "\\end{bmatrix}.\n",
    "$$\n",
    "\n",
    "Then $Q^T A = R$, and since $Q$ is orthogonal,\n",
    "\n",
    "$$\n",
    "A = QR.\n",
    "$$"
   ]
  },
  {
   "cell_type": "markdown",
   "metadata": {},
   "source": [
    "---"
   ]
  },
  {
   "cell_type": "markdown",
   "metadata": {},
   "source": [
    "## Exercise\n",
    "\n",
    "Compute the $QR$-decomposition of\n",
    "\n",
    "$$\n",
    "A = \\begin{bmatrix}\n",
    "1 & 2 \\\\\n",
    "1 & 3\n",
    "\\end{bmatrix}\n",
    "$$\n",
    "\n",
    "and check your answer using the `qr` function in Julia."
   ]
  },
  {
   "cell_type": "code",
   "execution_count": null,
   "metadata": {},
   "outputs": [],
   "source": [
    "A = [1 1; 2 3.0]"
   ]
  },
  {
   "cell_type": "code",
   "execution_count": null,
   "metadata": {},
   "outputs": [],
   "source": [
    "function formQ(x)\n",
    "    c, s = x/norm(x)\n",
    "    Q = [c -s; s c]\n",
    "end"
   ]
  },
  {
   "cell_type": "code",
   "execution_count": null,
   "metadata": {},
   "outputs": [],
   "source": [
    "Q = formQ(A[:,1])"
   ]
  },
  {
   "cell_type": "code",
   "execution_count": null,
   "metadata": {},
   "outputs": [],
   "source": [
    "R = Q'A"
   ]
  },
  {
   "cell_type": "code",
   "execution_count": null,
   "metadata": {},
   "outputs": [],
   "source": [
    "A - Q*R"
   ]
  },
  {
   "cell_type": "code",
   "execution_count": null,
   "metadata": {},
   "outputs": [],
   "source": [
    "F = qr(A)"
   ]
  },
  {
   "cell_type": "code",
   "execution_count": null,
   "metadata": {},
   "outputs": [],
   "source": [
    "A - F.Q*F.R"
   ]
  },
  {
   "cell_type": "markdown",
   "metadata": {},
   "source": [
    "---"
   ]
  },
  {
   "cell_type": "markdown",
   "metadata": {},
   "source": [
    "## Givens rotations\n",
    "\n",
    "A **Givens rotation** matrix is\n",
    "\n",
    "$$\n",
    "Q = \n",
    "\\begin{bmatrix}\n",
    "1 \\\\\n",
    "&\\ddots\\\\\n",
    "&&1\\\\\n",
    "&&&c&&&&-s\\\\\n",
    "&&&&1\\\\\n",
    "&&&&&\\ddots\\\\\n",
    "&&&&&&1\\\\\n",
    "&&&s&&&&c\\\\\n",
    "&&&&&&&&1\\\\\n",
    "&&&&&&&&&\\ddots\\\\\n",
    "&&&&&&&&&&1\\\\\n",
    "\\end{bmatrix},\n",
    "$$\n",
    "\n",
    "where $c = \\cos\\theta$ and $s = \\sin\\theta$. This matrix rotates the $(x_i,x_j)$ plane by an angle of $\\theta$.\n",
    "\n",
    "These matrices can be used to introduce zeros in general $n \\times n$ matrices."
   ]
  },
  {
   "cell_type": "markdown",
   "metadata": {},
   "source": [
    "---"
   ]
  },
  {
   "cell_type": "markdown",
   "metadata": {},
   "source": [
    "## Exercise\n",
    "\n",
    "Use Givens rotations to compute the $QR$-decomposition of\n",
    "\n",
    "$$\n",
    "A = \\begin{bmatrix}\n",
    "1 & 2 & 0 \\\\\n",
    "0 & 1 & 3 \\\\\n",
    "1 & 3 & 0\n",
    "\\end{bmatrix}.\n",
    "$$"
   ]
  },
  {
   "cell_type": "code",
   "execution_count": null,
   "metadata": {},
   "outputs": [],
   "source": [
    "A = [ 1 2 0; 0 1 3; 1 3 0.0 ]"
   ]
  },
  {
   "cell_type": "code",
   "execution_count": null,
   "metadata": {},
   "outputs": [],
   "source": [
    "x = A[[1,3],1]"
   ]
  },
  {
   "cell_type": "code",
   "execution_count": null,
   "metadata": {},
   "outputs": [],
   "source": [
    "c, s = x/norm(x)"
   ]
  },
  {
   "cell_type": "code",
   "execution_count": null,
   "metadata": {},
   "outputs": [],
   "source": [
    "Q1 = [\n",
    "    c 0 -s\n",
    "    0 1 0\n",
    "    s 0 c\n",
    "]"
   ]
  },
  {
   "cell_type": "code",
   "execution_count": null,
   "metadata": {},
   "outputs": [],
   "source": [
    "A1 = Q1'A"
   ]
  },
  {
   "cell_type": "code",
   "execution_count": null,
   "metadata": {},
   "outputs": [],
   "source": [
    "x = A1[[2,3],2]"
   ]
  },
  {
   "cell_type": "code",
   "execution_count": null,
   "metadata": {},
   "outputs": [],
   "source": [
    "c, s = x/norm(x)"
   ]
  },
  {
   "cell_type": "code",
   "execution_count": null,
   "metadata": {},
   "outputs": [],
   "source": [
    "Q2 = [\n",
    "    1 0 0\n",
    "    0 c -s\n",
    "    0 s c\n",
    "]"
   ]
  },
  {
   "cell_type": "code",
   "execution_count": null,
   "metadata": {},
   "outputs": [],
   "source": [
    "A2 = Q2'A1"
   ]
  },
  {
   "cell_type": "code",
   "execution_count": null,
   "metadata": {},
   "outputs": [],
   "source": [
    "R = A2"
   ]
  },
  {
   "cell_type": "code",
   "execution_count": null,
   "metadata": {},
   "outputs": [],
   "source": [
    "Q = Q1*Q2"
   ]
  },
  {
   "cell_type": "code",
   "execution_count": null,
   "metadata": {},
   "outputs": [],
   "source": [
    "A - Q*R"
   ]
  },
  {
   "cell_type": "code",
   "execution_count": null,
   "metadata": {},
   "outputs": [],
   "source": [
    "qr(A)"
   ]
  },
  {
   "cell_type": "code",
   "execution_count": null,
   "metadata": {},
   "outputs": [],
   "source": [
    "UpperTriangular(R)"
   ]
  },
  {
   "cell_type": "markdown",
   "metadata": {},
   "source": [
    "---"
   ]
  },
  {
   "cell_type": "markdown",
   "metadata": {},
   "source": [
    "## Solving $Ax = b$ using $QR$\n",
    "\n",
    "If $Ax = b$ and $A = QR$, then\n",
    "\n",
    "$$\n",
    "Q(Rx) = b.\n",
    "$$\n",
    "\n",
    "If we let $c = Rx$, then we have $Qc = b$.\n",
    "\n",
    "Thus, we have the following algorithm for solving $Ax = b$:\n",
    "\n",
    "1. Let $c = Q^Tb$.\n",
    "2. Solve $Rx = c$ using backward substitution."
   ]
  },
  {
   "cell_type": "markdown",
   "metadata": {},
   "source": [
    "---"
   ]
  },
  {
   "cell_type": "markdown",
   "metadata": {},
   "source": [
    "## Exercise\n",
    "\n",
    "Use the $QR$-decomposition of $A$ to solve $Ax = b$.\n",
    "\n",
    "$$\n",
    "A = \\begin{bmatrix}\n",
    "1 & 2 \\\\\n",
    "1 & 3\n",
    "\\end{bmatrix},\n",
    "\\qquad\n",
    "b = \\begin{bmatrix} 1 \\\\ 2 \\end{bmatrix}.\n",
    "$$"
   ]
  },
  {
   "cell_type": "code",
   "execution_count": null,
   "metadata": {},
   "outputs": [],
   "source": [
    "A = [1 2; 1 3.0]\n",
    "b = [1, 2.0]\n",
    "\n",
    "Q, R = qr(A)"
   ]
  },
  {
   "cell_type": "code",
   "execution_count": null,
   "metadata": {},
   "outputs": [],
   "source": [
    "c = Q'b"
   ]
  },
  {
   "cell_type": "code",
   "execution_count": null,
   "metadata": {},
   "outputs": [],
   "source": [
    "x = R\\c"
   ]
  },
  {
   "cell_type": "code",
   "execution_count": null,
   "metadata": {},
   "outputs": [],
   "source": [
    "A*x - b"
   ]
  },
  {
   "cell_type": "markdown",
   "metadata": {},
   "source": [
    "---"
   ]
  },
  {
   "cell_type": "markdown",
   "metadata": {},
   "source": [
    "## Reflection matrices\n",
    "\n",
    "Another way to create zeros in a matrix is by the [Householder reflection transformation](https://en.wikipedia.org/wiki/Householder_transformation):\n",
    "\n",
    "$$\n",
    "Q = I - 2uu^T, \\qquad \\|u\\|_2 = 1.\n",
    "$$\n",
    "\n",
    "Let $L$ be the set of vectors $v$ that are orthogonal to the unit vector $u$,\n",
    "\n",
    "$$\n",
    "L = \\left\\{ v \\in \\mathbb{R}^n : u^T v = 0 \\right\\}.\n",
    "$$\n",
    "\n",
    "Then $L$ is a **hyperplane** containing the origin, and $Q$ reflects vectors $x$ across $L$.\n"
   ]
  },
  {
   "cell_type": "markdown",
   "metadata": {},
   "source": [
    "---"
   ]
  },
  {
   "cell_type": "markdown",
   "metadata": {},
   "source": [
    "## Properties of $Q = I - 2uu^T$\n",
    "\n",
    "1. $Qu = -u$\n",
    "2. If $v \\in L$, then $Qv = v$.\n",
    "3. $Q = Q^T$\n",
    "4. $Q^TQ = I$\n",
    "5. $Q^{-1} = Q$"
   ]
  },
  {
   "cell_type": "markdown",
   "metadata": {},
   "source": [
    "---"
   ]
  },
  {
   "cell_type": "markdown",
   "metadata": {},
   "source": [
    "## Exercise\n",
    "\n",
    "Prove the above properties."
   ]
  },
  {
   "cell_type": "markdown",
   "metadata": {},
   "source": [
    "### Part 1\n",
    "\n",
    "Since $\\|u\\|_2 = 1$, we have\n",
    "\n",
    "\\begin{align}\n",
    "Q u\n",
    "&= (I - 2 u u^T) u \\\\\n",
    "&= u - 2 u (u^T u) \\\\\n",
    "&= u - 2 u \\|u\\|_2^2 \\\\\n",
    "&= u - 2 u \\\\\n",
    "&= -u.\n",
    "\\end{align}"
   ]
  },
  {
   "cell_type": "markdown",
   "metadata": {},
   "source": [
    "### Part 2\n",
    "\n",
    "Since $v \\in L$, we have that $u^T v = 0$. Thus,\n",
    "\n",
    "\\begin{align}\n",
    "Q v\n",
    "&= (I - 2 u u^T) v \\\\\n",
    "&= v - 2 u (u^T v) \\\\\n",
    "&= v - 2 u (0) \\\\\n",
    "&= v.\n",
    "\\end{align}"
   ]
  },
  {
   "cell_type": "markdown",
   "metadata": {},
   "source": [
    "### Part 3\n",
    "\n",
    "We have that\n",
    "\n",
    "\\begin{align}\n",
    "Q^T \n",
    "&= (I - 2 u u^T)^T \\\\\n",
    "&= I^T - 2 (u u^T)^T \\\\\n",
    "&= I - 2 (u^T)^T u^T \\\\\n",
    "&= I - 2 u u^T \\\\\n",
    "&= Q. \\\\\n",
    "\\end{align}\n",
    "\n",
    "Therefore, $Q$ is symmetric."
   ]
  },
  {
   "cell_type": "markdown",
   "metadata": {},
   "source": [
    "### Part 4\n",
    "\n",
    "Since $Q^T = Q$, we have\n",
    "\n",
    "\\begin{align}\n",
    "Q^T Q\n",
    "&= Q Q \\\\\n",
    "&= (I - 2 u u^T)(I - 2 u u^T) \\\\\n",
    "&= I - 2 u u^T - 2 u u^T + 4 u (u^T u) u^T \\\\\n",
    "&= I - 2 u u^T - 2 u u^T + 4 u u^T \\\\ \n",
    "&= I. \\\\\n",
    "\\end{align}\n",
    "\n",
    "Therefore, $Q$ is orthogonal."
   ]
  },
  {
   "cell_type": "markdown",
   "metadata": {},
   "source": [
    "### Part 5\n",
    "\n",
    "Since $QQ = I$, the matrix $Q$ is its own inverse, so $Q^{-1} = Q$."
   ]
  },
  {
   "cell_type": "markdown",
   "metadata": {},
   "source": [
    "---"
   ]
  },
  {
   "cell_type": "markdown",
   "metadata": {},
   "source": [
    "## Reflecting $x$ to $y$\n",
    "\n",
    "If $\\|u\\|_2 \\neq 1$, then the **Householder reflector** is\n",
    "\n",
    "$$\n",
    "Q = I - \\gamma uu^T, \\qquad \\gamma = \\frac{2}{\\|u\\|_2^2}.\n",
    "$$\n",
    "\n",
    "If $x, y \\in \\mathbb{R}^n$ such that $\\|x\\|_2 = \\|y\\|_2$, then the reflector $Q$ using \n",
    "\n",
    "$$u = x - y$$ \n",
    "\n",
    "satisfies\n",
    "\n",
    "$$\n",
    "Qx = y.\n",
    "$$\n",
    "\n"
   ]
  },
  {
   "cell_type": "markdown",
   "metadata": {},
   "source": [
    "---"
   ]
  },
  {
   "cell_type": "markdown",
   "metadata": {},
   "source": [
    "## Exercise\n",
    "\n",
    "Test that $Qx = y$ on random vectors $x$ and $y$."
   ]
  },
  {
   "cell_type": "code",
   "execution_count": null,
   "metadata": {},
   "outputs": [],
   "source": [
    "n = 4\n",
    "x = randn(n)\n",
    "y = randn(n)\n",
    "L = 10*rand()\n",
    "x *= L/norm(x)\n",
    "y *= L/norm(y)\n",
    "\n",
    "norm(x) ≈ norm(y)"
   ]
  },
  {
   "cell_type": "code",
   "execution_count": null,
   "metadata": {},
   "outputs": [],
   "source": [
    "u = x - y\n",
    "γ = 2/dot(u,u)\n",
    "\n",
    "Q = I - γ*(u*u')"
   ]
  },
  {
   "cell_type": "code",
   "execution_count": null,
   "metadata": {},
   "outputs": [],
   "source": [
    "Qmap(v) = v - (γ*dot(u,v))*u"
   ]
  },
  {
   "cell_type": "code",
   "execution_count": null,
   "metadata": {},
   "outputs": [],
   "source": [
    "[Q*x y]"
   ]
  },
  {
   "cell_type": "code",
   "execution_count": null,
   "metadata": {},
   "outputs": [],
   "source": [
    "norm(Q*x - y)"
   ]
  },
  {
   "cell_type": "code",
   "execution_count": null,
   "metadata": {},
   "outputs": [],
   "source": [
    "[Qmap(x) y]"
   ]
  },
  {
   "cell_type": "code",
   "execution_count": null,
   "metadata": {},
   "outputs": [],
   "source": [
    "norm(Qmap(x) - y)"
   ]
  },
  {
   "cell_type": "markdown",
   "metadata": {},
   "source": [
    "---"
   ]
  },
  {
   "cell_type": "markdown",
   "metadata": {},
   "source": [
    "## Creating zeros using reflectors\n",
    "\n",
    "We want the reflector $Q$ that reflects $x$ to $y$, where\n",
    "\n",
    "$$\n",
    "x = \n",
    "\\begin{bmatrix} x_1 \\\\ x_2 \\\\ \\vdots \\\\ x_n \\end{bmatrix},\n",
    "\\qquad\n",
    "y = \n",
    "\\begin{bmatrix} -\\tau \\\\ 0 \\\\ \\vdots \\\\ 0 \\end{bmatrix},\n",
    "\\qquad\n",
    "\\tau = \\mathrm{sign}(x_1)\\|x\\|_2.\n",
    "$$\n",
    "\n",
    "We define $u$ as\n",
    "\n",
    "$$\n",
    "u = \\frac{x - y}{\\tau + x_1} = \n",
    "\\begin{bmatrix} 1 \\\\ x_2/(\\tau + x_1) \\\\ \\vdots \\\\ x_n/(\\tau + x_1) \\end{bmatrix}.\n",
    "$$\n",
    "\n",
    "Note that we have divided by $\\tau + x_1$ to ensure that $u_1 = 1$.\n",
    "\n",
    "Since $\\tau$ and $x_1$ have the same sign, the calculation $\\tau + x_1$ avoids catastrophic cancellation."
   ]
  },
  {
   "cell_type": "markdown",
   "metadata": {},
   "source": [
    "Letting \n",
    "\n",
    "$$\n",
    "Q = I - \\gamma uu^T, \n",
    "\\qquad\n",
    "\\gamma = \\frac{2}{\\|u\\|_2^2},\n",
    "$$\n",
    "\n",
    "we have\n",
    "\n",
    "$$\n",
    "Qx = \\begin{bmatrix} -\\tau \\\\ 0 \\\\ \\vdots \\\\ 0 \\end{bmatrix}.\n",
    "$$\n",
    "\n"
   ]
  },
  {
   "cell_type": "markdown",
   "metadata": {},
   "source": [
    "---"
   ]
  },
  {
   "cell_type": "markdown",
   "metadata": {},
   "source": [
    "## Exercise\n",
    "\n",
    "Prove that \n",
    "$$\\gamma = \\frac{\\tau + x_1}{\\tau}.$$"
   ]
  },
  {
   "cell_type": "markdown",
   "metadata": {},
   "source": [
    "### Proof.\n",
    "\n",
    "First note that\n",
    "\n",
    "$$\n",
    "(\\tau + x_1) u = \n",
    "\\begin{bmatrix} \\tau + x_1 \\\\ x_2 \\\\ \\vdots \\\\ x_n \\end{bmatrix}.\n",
    "$$\n",
    "\n",
    "\n",
    "Now, taking the norm squared of both sides, we have\n",
    "\n",
    "$$\n",
    "\\|(\\tau + x_1) u \\|_2^2 = (\\tau + x_1)^2 + x_2^2 + \\cdots + x_n^2.\n",
    "$$\n",
    "\n",
    "Thus,\n",
    "\n",
    "$$\n",
    "|\\tau + x_1|^2 \\|u\\|_2^2 = \\tau^2 + 2 \\tau x_1 + x_1^2 + \\cdots + x_n^2.\n",
    "$$\n",
    "\n",
    "Then we have\n",
    "\n",
    "$$\n",
    "(\\tau + x_1)^2 \\|u\\|_2^2 = \\tau^2 + 2 \\tau x_1 + \\|x\\|_2^2.\n",
    "$$\n",
    "\n",
    "Since $\\tau = \\mathrm{sign}(x_1) \\|x\\|_2$, we have that $\\tau^2 = \\|x\\|_2^2$. Therefore,\n",
    "\n",
    "$$\n",
    "(\\tau + x_1)^2 \\|u\\|_2^2 = \\tau^2 + 2 \\tau x_1 + \\tau^2.\n",
    "$$\n",
    "\n",
    "Thus,\n",
    "\n",
    "$$\n",
    "(\\tau + x_1)^2 \\|u\\|_2^2 = 2 \\tau( \\tau + x_1 ).\n",
    "$$\n",
    "\n",
    "Since $\\tau + x_1 \\ne 0$, we can divide both sides by $\\tau + x_1$, and we get\n",
    "\n",
    "$$\n",
    "(\\tau + x_1) \\|u\\|_2^2 = 2 \\tau.\n",
    "$$\n",
    "\n",
    "Rearranging, we have that\n",
    "\n",
    "$$\n",
    "\\frac{\\tau + x_1}{\\tau} = \\frac{2}{\\|u\\|_2^2}.\n",
    "$$\n",
    "\n",
    "Since $\\gamma = 2/\\|u\\|_2^2$, we have that\n",
    "\n",
    "$$\n",
    "\\frac{\\tau + x_1}{\\tau} = \\gamma.\n",
    "$$\n",
    "\n",
    "Q.E.D."
   ]
  },
  {
   "cell_type": "markdown",
   "metadata": {},
   "source": [
    "---"
   ]
  },
  {
   "cell_type": "markdown",
   "metadata": {},
   "source": [
    "## Exercise\n",
    "\n",
    "Test above method for generating $Q$ on a random vector $x$."
   ]
  },
  {
   "cell_type": "code",
   "execution_count": null,
   "metadata": {},
   "outputs": [],
   "source": [
    "n = 5\n",
    "x = randn(5)"
   ]
  },
  {
   "cell_type": "code",
   "execution_count": null,
   "metadata": {},
   "outputs": [],
   "source": [
    "τ = sign(x[1])*norm(x)"
   ]
  },
  {
   "cell_type": "code",
   "execution_count": null,
   "metadata": {},
   "outputs": [],
   "source": [
    "u = [1; x[2:end]/(τ + x[1])]"
   ]
  },
  {
   "cell_type": "code",
   "execution_count": null,
   "metadata": {},
   "outputs": [],
   "source": [
    "γ = (τ + x[1])/τ"
   ]
  },
  {
   "cell_type": "code",
   "execution_count": null,
   "metadata": {},
   "outputs": [],
   "source": [
    "2/dot(u,u)"
   ]
  },
  {
   "cell_type": "code",
   "execution_count": null,
   "metadata": {},
   "outputs": [],
   "source": [
    "Q = I - (γ*u)*u'"
   ]
  },
  {
   "cell_type": "code",
   "execution_count": null,
   "metadata": {},
   "outputs": [],
   "source": [
    "Q*x"
   ]
  },
  {
   "cell_type": "code",
   "execution_count": null,
   "metadata": {},
   "outputs": [],
   "source": [
    "Qmap(v) = v - (γ*dot(u,v))*u"
   ]
  },
  {
   "cell_type": "code",
   "execution_count": null,
   "metadata": {},
   "outputs": [],
   "source": [
    "Qmap(x)"
   ]
  },
  {
   "cell_type": "markdown",
   "metadata": {},
   "source": [
    "---"
   ]
  },
  {
   "cell_type": "markdown",
   "metadata": {},
   "source": [
    "## `house`\n",
    "\n",
    "We can now write a function to compute the $u$ and $\\gamma$ of the Householder reflector $Q = I - \\gamma uu^T$:\n",
    "\n",
    "```julia\n",
    "u, γ, τ = house(x)\n",
    "```"
   ]
  },
  {
   "cell_type": "code",
   "execution_count": null,
   "metadata": {},
   "outputs": [],
   "source": [
    "function house(x)\n",
    "    u = copy(x)\n",
    "    \n",
    "    τ = norm(x)\n",
    "    if τ == 0.0\n",
    "        γ = 0.0\n",
    "    else\n",
    "        if x[1] < 0\n",
    "            τ = -τ    # τ = sign(x[1])*norm(x)\n",
    "        end\n",
    "        γ = τ + x[1]  # γ temporarily stores τ + x[1]\n",
    "        u[1] = 1.0    # u normalized to u[1] = 1\n",
    "        u[2:end] /= γ # divide u[2:end] by τ + x[1]\n",
    "        γ /= τ        # γ = (τ + x[1])/τ\n",
    "    end\n",
    "    \n",
    "    return u, γ, τ\n",
    "end"
   ]
  },
  {
   "cell_type": "code",
   "execution_count": null,
   "metadata": {},
   "outputs": [],
   "source": [
    "n = 5\n",
    "x = randn(n)\n",
    "\n",
    "u, γ, τ = house(x)\n",
    "\n",
    "Q = I - γ*(u*u')"
   ]
  },
  {
   "cell_type": "code",
   "execution_count": null,
   "metadata": {},
   "outputs": [],
   "source": [
    "issymmetric(Q)"
   ]
  },
  {
   "cell_type": "code",
   "execution_count": null,
   "metadata": {},
   "outputs": [],
   "source": [
    "Q*Q"
   ]
  },
  {
   "cell_type": "code",
   "execution_count": null,
   "metadata": {},
   "outputs": [],
   "source": [
    "[x Q*x]"
   ]
  },
  {
   "cell_type": "code",
   "execution_count": null,
   "metadata": {},
   "outputs": [],
   "source": [
    "Qmap(x)"
   ]
  },
  {
   "cell_type": "markdown",
   "metadata": {},
   "source": [
    "---"
   ]
  },
  {
   "cell_type": "markdown",
   "metadata": {},
   "source": [
    "## `housetimes`\n",
    "\n",
    "The way we computed $Qx$ in the above numerical example was inefficient. Note that\n",
    "\n",
    "$$\n",
    "Qx = \\left(I - \\gamma uu^T\\right)x = x - \\left[\\gamma \\left(u^T x\\right)\\right] u.\n",
    "$$"
   ]
  },
  {
   "cell_type": "code",
   "execution_count": null,
   "metadata": {},
   "outputs": [],
   "source": [
    "housetimes(x::Vector, u, γ) = x - (γ*dot(u, x))*u"
   ]
  },
  {
   "cell_type": "code",
   "execution_count": null,
   "metadata": {},
   "outputs": [],
   "source": [
    "u, γ, τ = house(x)\n",
    "\n",
    "housetimes(x, u, γ)"
   ]
  },
  {
   "cell_type": "markdown",
   "metadata": {},
   "source": [
    "---"
   ]
  },
  {
   "cell_type": "markdown",
   "metadata": {},
   "source": [
    "## Exercise\n",
    "\n",
    "Count the number of flops:\n",
    "1. To form $Q$ and compute $Qx$.\n",
    "2. To compute $x - \\left[\\gamma \\left(u^T x\\right)\\right] u$."
   ]
  },
  {
   "cell_type": "markdown",
   "metadata": {},
   "source": [
    "**Solution:**\n",
    "\n",
    "1. $3n^2 + 2n$ flops\n",
    "2. $4n + 1$ flops"
   ]
  },
  {
   "cell_type": "markdown",
   "metadata": {},
   "source": [
    "### Part 1\n",
    "\n",
    "Recall that $Q = I - \\gamma u u^T$.\n",
    "\n",
    "1. Computing $y = (-\\gamma) u$ requires $n$ multiplications.\n",
    "2. Computing $Q = y u^T$ requires $n^2$ multiplications.\n",
    "3. Computing $Q = I + Q$ reqires $n$ additions (along the diagonal).\n",
    "4. Computing $Qx$ requires $2n^2$ operations.\n",
    "\n",
    "So, in total we have $3n^2 + 2n$ flops for forming the $n \\times n$ matrix $Q$ and computing matrix-vector multiplication $Qx$."
   ]
  },
  {
   "cell_type": "markdown",
   "metadata": {},
   "source": [
    "### Part 2\n",
    "\n",
    "To compute $x - \\left[\\gamma \\left(u^T x\\right)\\right] u$, we do the following.\n",
    "\n",
    "1. Computing $\\delta = u^T x$ requires $n$ multiplications and $n$ additions.\n",
    "2. Computing $\\mu = \\gamma \\delta$ requires one multiplication.\n",
    "3. Computing $y = \\mu u$ requires $n$ multiplications.\n",
    "4. Computing $z = x - y$ requires $n$ subtractions.\n",
    "\n",
    "So, in total we have $4n + 1$ flops for computing $x - \\left[\\gamma \\left(u^T x\\right)\\right] u$."
   ]
  },
  {
   "cell_type": "markdown",
   "metadata": {},
   "source": [
    "---"
   ]
  },
  {
   "cell_type": "markdown",
   "metadata": {},
   "source": [
    "In the algorithm for computing the $QR$ decomposition of a matrix $A$, we will need to compute $QB$ where $B$ is a matrix.\n",
    "\n",
    "$$\n",
    "QB = B - (\\gamma u) \\left(u^TB\\right)\n",
    "$$"
   ]
  },
  {
   "cell_type": "code",
   "execution_count": null,
   "metadata": {},
   "outputs": [],
   "source": [
    "housetimes(B::Matrix, u, γ) = B - (γ*u)*(u'*B)"
   ]
  },
  {
   "cell_type": "code",
   "execution_count": null,
   "metadata": {},
   "outputs": [],
   "source": [
    "methods(housetimes)"
   ]
  },
  {
   "cell_type": "code",
   "execution_count": null,
   "metadata": {},
   "outputs": [],
   "source": [
    "n = 5\n",
    "B = rand(n,n)"
   ]
  },
  {
   "cell_type": "code",
   "execution_count": null,
   "metadata": {},
   "outputs": [],
   "source": [
    "u, γ, τ = house(B[:,1])\n",
    "\n",
    "housetimes(B, u, γ)"
   ]
  },
  {
   "cell_type": "markdown",
   "metadata": {},
   "source": [
    "---"
   ]
  },
  {
   "cell_type": "markdown",
   "metadata": {},
   "source": [
    "## Exercise\n",
    "\n",
    "Use Householder reflectors to numerically compute the $QR$-decomposition of\n",
    "\n",
    "$$\n",
    "A = \\begin{bmatrix}\n",
    "1 & 2 & 0 \\\\\n",
    "0 & 1 & 3 \\\\\n",
    "1 & 3 & 0\n",
    "\\end{bmatrix}.\n",
    "$$\n",
    "\n",
    "Check your answer using the `qr` function in Julia."
   ]
  },
  {
   "cell_type": "code",
   "execution_count": null,
   "metadata": {},
   "outputs": [],
   "source": [
    "A = [1 2 0; 0 1 3; 1 3 0.0]\n",
    "R = copy(A)"
   ]
  },
  {
   "cell_type": "code",
   "execution_count": null,
   "metadata": {},
   "outputs": [],
   "source": [
    "u, γ, τ = house(R[:,1])\n",
    "\n",
    "R[1,1] = -τ\n",
    "R[2:3,1] .= 0\n",
    "R[:,2:3] = housetimes(R[:,2:3], u, γ)\n",
    "R"
   ]
  },
  {
   "cell_type": "code",
   "execution_count": null,
   "metadata": {},
   "outputs": [],
   "source": [
    "u, γ, τ = house(R[2:3,2])\n",
    "\n",
    "R[2,2] = -τ\n",
    "R[3,2] = 0\n",
    "R[2:3,3] = housetimes(R[2:3,3], u, γ)\n",
    "R"
   ]
  },
  {
   "cell_type": "code",
   "execution_count": null,
   "metadata": {},
   "outputs": [],
   "source": [
    "qr(A)"
   ]
  },
  {
   "cell_type": "markdown",
   "metadata": {},
   "source": [
    "---"
   ]
  },
  {
   "cell_type": "markdown",
   "metadata": {},
   "source": [
    "## The $QR$ Decomposition Algorithm\n",
    "\n",
    "$$A_0 = A$$\n",
    "\n",
    "$$\n",
    "A_1 = Q_1A = \n",
    "\\left[\\begin{array}{c|c}\n",
    "-\\tau_1 & a_1^T \\\\ \\hline\n",
    "0 & \\hat{A}_1\n",
    "\\end{array}\\right],\n",
    "\\qquad\n",
    "Q_1 = I_n - \\gamma_1 u_1 u_1^T\n",
    "$$\n",
    "\n",
    "$$\n",
    "A_2 = Q_2Q_1A = \n",
    "\\left[\\begin{array}{c|c}\n",
    "-\\tau_1 & a_1^T \\\\ \\hline\n",
    "0 &\n",
    "\\begin{array}{c|c}\n",
    "-\\tau_2 & a_2^T \\\\ \\hline\n",
    "0 & \\hat{A}_2\n",
    "\\end{array}\n",
    "\\end{array}\\right],\n",
    "\\qquad\n",
    "Q_2 = \n",
    "\\left[\\begin{array}{c|c}\n",
    "1 & \\\\\\hline\n",
    "& I_{n-1} - \\gamma_2 u_2 u_2^T\n",
    "\\end{array}\\right]\n",
    "$$\n",
    "\n",
    "$$\n",
    "A_3 = Q_3Q_2Q_1A = \n",
    "\\left[\\begin{array}{c|c}\n",
    "-\\tau_1 & a_1^T \\\\ \\hline\n",
    "0 &\n",
    "\\begin{array}{c|c}\n",
    "-\\tau_2 & a_2^T \\\\ \\hline\n",
    "0 & \n",
    "\\begin{array}{c|c}\n",
    "-\\tau_3 & a_3^T \\\\ \\hline\n",
    "0 & \\hat{A}_3\n",
    "\\end{array}\n",
    "\\end{array}\n",
    "\\end{array}\\right],\n",
    "\\qquad\n",
    "Q_3 = \n",
    "\\left[\\begin{array}{c|c}\n",
    "I_2 & \\\\\\hline\n",
    "& I_{n-2} - \\gamma_3 u_3 u_3^T\n",
    "\\end{array}\\right]\n",
    "$$\n",
    "\n",
    "$$\\vdots$$"
   ]
  },
  {
   "cell_type": "markdown",
   "metadata": {},
   "source": [
    "$$\n",
    "A_{n-1} = Q_{n-1} \\cdots Q_1A = \n",
    "\\left[\\begin{array}{c|c}\n",
    "-\\tau_1 & a_1^T \\\\ \\hline\n",
    "0 &\n",
    "\\begin{array}{c|c}\n",
    "-\\tau_2 & a_2^T \\\\ \\hline\n",
    "0 & \n",
    "\\begin{array}{c|c}\n",
    "-\\tau_3 & a_3^T \\\\ \\hline\n",
    "0 & \n",
    "\\begin{array}{c|c}\n",
    "\\ddots & \\ddots \\\\ \\hline\n",
    "0 & \n",
    "\\begin{array}{c|c}\n",
    "-\\tau_{n-1} & a_{n-1}^T \\\\ \\hline\n",
    "0& \\hat{A}_{n-1}\n",
    "\\end{array}\n",
    "\\end{array}\n",
    "\\end{array}\n",
    "\\end{array}\n",
    "\\end{array}\\right] = R\n",
    "$$\n",
    "\n",
    "We then let $Q = Q_1Q_2 \\cdots Q_{n-1}$ and obtain $A = QR$."
   ]
  },
  {
   "cell_type": "markdown",
   "metadata": {},
   "source": [
    "---"
   ]
  },
  {
   "cell_type": "markdown",
   "metadata": {},
   "source": [
    "## Storing $u_i$'s and $\\gamma_i$'s\n",
    "\n",
    "Each $u_i$ is normalized so that\n",
    "\n",
    "$$\n",
    "u_i = \\begin{bmatrix} 1\\\\*\\\\\\vdots\\\\* \\end{bmatrix}.\n",
    "$$\n",
    "\n",
    "Thus we do not need to store the first entry since it is always $1$.\n",
    "\n",
    "The rest of the entries of $u_i$ can be stored where the zeros are created.\n",
    "\n",
    "To store the $\\gamma_i$'s, we create a separate vector\n",
    "\n",
    "$$\n",
    "\\gamma = \\begin{bmatrix} \\gamma_1\\\\\\vdots\\\\\\gamma_{n-1} \\end{bmatrix}.\n",
    "$$"
   ]
  },
  {
   "cell_type": "markdown",
   "metadata": {},
   "source": [
    "---"
   ]
  },
  {
   "cell_type": "markdown",
   "metadata": {},
   "source": [
    "## `myqr`"
   ]
  },
  {
   "cell_type": "code",
   "execution_count": null,
   "metadata": {},
   "outputs": [],
   "source": [
    "struct myQRfactorization\n",
    "    V::Matrix{Float64}\n",
    "    γ::Vector{Float64}\n",
    "end\n",
    "\n",
    "function myqr(A::Matrix{Float64})\n",
    "    m, n = size(A)\n",
    "    \n",
    "    m == n || error(\"This QR decomposition algorithm requires a square input matrix.\")\n",
    "        \n",
    "    V = copy(A)\n",
    "    γ = zeros(n-1)\n",
    "    for k = 1:n-1\n",
    "        u, γ[k], τ = house(V[k:n,k])  # compute the Householder reflector I - γuu'\n",
    "        V[k,k] = -τ                   # diagonal entries become -τ\n",
    "        V[k+1:n,k] = u[2:end]         # store u's in the strictly lower-triangular part of V\n",
    "        V[k:n,k+1:n] -= (γ[k]*u)*(u'*V[k:n,k+1:n]) # housetimes\n",
    "    end\n",
    "    \n",
    "    myQRfactorization(V, γ)\n",
    "end"
   ]
  },
  {
   "cell_type": "code",
   "execution_count": null,
   "metadata": {},
   "outputs": [],
   "source": [
    "n = 5\n",
    "A = rand(n, n)\n",
    "\n",
    "myF = myqr(A)"
   ]
  },
  {
   "cell_type": "code",
   "execution_count": null,
   "metadata": {},
   "outputs": [],
   "source": [
    "F = qr(A)"
   ]
  },
  {
   "cell_type": "code",
   "execution_count": null,
   "metadata": {},
   "outputs": [],
   "source": [
    "UpperTriangular(myF.V)"
   ]
  },
  {
   "cell_type": "markdown",
   "metadata": {},
   "source": [
    "---"
   ]
  },
  {
   "cell_type": "markdown",
   "metadata": {},
   "source": [
    "## Flop count of $QR$ Decomposition Algorithm\n",
    "\n",
    "In each iteration, we need to compute `housetimes`:\n",
    "\n",
    "1. $\\left(I_n - \\gamma_1 u_1 u_1^T\\right) A_{0}[1:n,\\ 2:n]$\n",
    "\n",
    "2. $\\left(I_{n-1} - \\gamma_2 u_2 u_2^T\\right) A_{1}[2:n,\\ 3:n]$\n",
    "\n",
    "3. $\\left(I_{n-2} - \\gamma_3 u_3 u_3^T\\right) A_{2}[3:n,\\ 4:n]$\n",
    "\n",
    "$\\qquad\\vdots$\n",
    "\n",
    "In iteration $k$, we compute\n",
    "\n",
    "$$\n",
    "\\left(I_{n-k+1} - \\gamma_k u_k u_k^T\\right) A_{k-1}[k:n,\\ k+1:n].\n",
    "$$\n",
    "\n",
    "This operation requires approximately $4(n - k + 1)^2$ flops if done efficiently.\n",
    "\n",
    "We also need to compute $\\gamma_k$ and $u_k$ from $A_{k-1}[k:n, k]$, but this is only $O(n)$.\n",
    "\n",
    "Therefore, the $QR$ Decomposition Algorithm requires\n",
    "\n",
    "$$\n",
    "\\sum_{k=1}^{n-1} 4(n-k+1)^2 \\approx \\int_1^{n-1} 4(n-x+1)^2 dx = \\frac{4}{3}n^3.\n",
    "$$\n",
    "\n",
    "This does not include forming $Q$ though."
   ]
  },
  {
   "cell_type": "markdown",
   "metadata": {},
   "source": [
    "---"
   ]
  },
  {
   "cell_type": "markdown",
   "metadata": {},
   "source": [
    "## Forming $Q$\n",
    "\n",
    "We can use the $u_i$'s and the $\\gamma_i$'s to compute\n",
    "\n",
    "$$QB = Q_1Q_2\\cdots Q_{n-1} B$$\n",
    "\n",
    "$$Q^T B = Q_{n-1}\\cdots Q_2 Q_1 B$$\n",
    "\n",
    "efficiently without forming $Q$.\n",
    "\n",
    "\n",
    "We can form $Q$ by computing $QI_n$:\n",
    "\n",
    "$$\n",
    "\\begin{align}\n",
    "Q = QI_n &= Q_1 Q_2\\cdots Q_{n-1} I_n\\\\\n",
    "&= \n",
    "\\left[\\begin{array}{c}\n",
    "I_{n} - \\gamma_1 u_1 u_1^T\n",
    "\\end{array}\\right]\n",
    "\\left[\\begin{array}{c|c}\n",
    "I_1 & \\\\\\hline\n",
    "& I_{n-1} - \\gamma_2 u_2 u_2^T\n",
    "\\end{array}\\right]\n",
    "\\cdots\n",
    "\\left[\\begin{array}{c|c}\n",
    "I_{n-2} & \\\\\\hline\n",
    "& I_{2} - \\gamma_{n-1} u_{n-1} u_{n-1}^T\n",
    "\\end{array}\\right] I_n\n",
    "\\end{align}\n",
    "$$\n",
    "\n",
    "Done efficiently (from right to left), this calculation requires an additional $\\frac43n^3$ flops."
   ]
  },
  {
   "cell_type": "markdown",
   "metadata": {},
   "source": [
    "---"
   ]
  },
  {
   "cell_type": "markdown",
   "metadata": {},
   "source": [
    "## `Qtimes` and `formQ`"
   ]
  },
  {
   "cell_type": "code",
   "execution_count": null,
   "metadata": {},
   "outputs": [],
   "source": [
    "function Qtimes!(F::myQRfactorization, B::Matrix; T=false)\n",
    "    n = size(F.V, 1)\n",
    "    cols = T ? (1:n-1) : (n-1:-1:1)\n",
    "    for k = cols\n",
    "        γk = F.γ[k]\n",
    "        uk = [1.0; F.V[k+1:n,k]]\n",
    "        B[k:n,k:n] -= (γk*uk)*(uk'*B[k:n,k:n])\n",
    "    end\n",
    "    B\n",
    "end\n",
    "Qtimes(F::myQRfactorization, B::Matrix) = Qtimes!(F, copy(B))\n",
    "\n",
    "QTtimes!(F::myQRfactorization, B::Matrix) = Qtimes!(F, B, T=true)\n",
    "QTtimes(F::myQRfactorization, B::Matrix) = QTtimes!(F, copy(B))\n",
    "\n",
    "formQ(F::myQRfactorization) = Qtimes(F, Matrix{Float64}(I, size(F.V)))"
   ]
  },
  {
   "cell_type": "code",
   "execution_count": null,
   "metadata": {},
   "outputs": [],
   "source": [
    "methods(formQ)"
   ]
  },
  {
   "cell_type": "code",
   "execution_count": null,
   "metadata": {},
   "outputs": [],
   "source": [
    "n = 5\n",
    "A = rand(n, n)\n",
    "F = myqr(A)\n",
    "\n",
    "Q = formQ(F)"
   ]
  },
  {
   "cell_type": "code",
   "execution_count": null,
   "metadata": {},
   "outputs": [],
   "source": [
    "Q'*A"
   ]
  },
  {
   "cell_type": "code",
   "execution_count": null,
   "metadata": {},
   "outputs": [],
   "source": [
    "QTtimes(F, A)"
   ]
  },
  {
   "cell_type": "markdown",
   "metadata": {},
   "source": [
    "---"
   ]
  },
  {
   "cell_type": "markdown",
   "metadata": {},
   "source": [
    "## Flop count summary for matrix factorizations\n",
    "\n",
    "Let $A \\in \\mathbb{R}^{n \\times n}$.\n",
    "\n",
    "`chol(A)`: $\\frac13n^3$ flops\n",
    "\n",
    "`lu(A)`:  $\\frac23n^3$ flops\n",
    "\n",
    "`F = qr(A)` does not form $Q$: $\\frac43n^3$ flops\n",
    "\n",
    "`Q = F.Q*Matrix(I,n,n)` forms $Q$: $\\frac83n^3$ flops\n"
   ]
  },
  {
   "cell_type": "markdown",
   "metadata": {},
   "source": [
    "---"
   ]
  },
  {
   "cell_type": "markdown",
   "metadata": {},
   "source": [
    "## Flop count to solve $Ax = b$ by $QR$\n",
    "\n",
    "**Algorithm:**\n",
    "\n",
    "1. Compute the $QR$ Decomposition of $A$, but do not form $Q$.\n",
    "2. $c = Q^Tb$\n",
    "3. Use backward substitution to solve $Rx = c$\n",
    "\n",
    "The cost of the $QR$ Decomposition is $\\frac43n^3$.\n",
    "\n",
    "The cost of computing $c = Q^Tb$ efficiently (using the $u_i$'s and the $\\gamma_i$'s) is about $2n^2$ flops.\n",
    "\n",
    "Backward substitution is $n^2$ flops.\n",
    "\n",
    "Therefore, in total we have \n",
    "\n",
    "$$\\frac43n^3 + O(n^2)$$ \n",
    "\n",
    "flops to solve $Ax = b$ by $QR$."
   ]
  },
  {
   "cell_type": "markdown",
   "metadata": {},
   "source": [
    "---"
   ]
  },
  {
   "cell_type": "markdown",
   "metadata": {},
   "source": [
    "## `x = F\\b`"
   ]
  },
  {
   "cell_type": "code",
   "execution_count": null,
   "metadata": {},
   "outputs": [],
   "source": [
    "function Qtimes!(F::myQRfactorization, b::Vector; T=false)\n",
    "    n = size(F.V, 1)\n",
    "    cols = T ? (1:n-1) : (n-1:-1:1)\n",
    "    for k = cols\n",
    "        γk = F.γ[k]\n",
    "        uk = [1.0; F.V[k+1:n,k]]\n",
    "        b[k:n] -= (γk*uk)*dot(uk, b[k:n])\n",
    "    end\n",
    "    b\n",
    "end\n",
    "Qtimes(F::myQRfactorization, b::Vector) = Qtimes!(F, copy(b))\n",
    "\n",
    "QTtimes!(F::myQRfactorization, b::Vector) = Qtimes!(F, b, T=true)\n",
    "QTtimes(F::myQRfactorization, b::Vector) = QTtimes!(F, copy(b))"
   ]
  },
  {
   "cell_type": "code",
   "execution_count": null,
   "metadata": {},
   "outputs": [],
   "source": [
    "methods(Qtimes)"
   ]
  },
  {
   "cell_type": "code",
   "execution_count": null,
   "metadata": {
    "scrolled": true
   },
   "outputs": [],
   "source": [
    "n = 5\n",
    "A = rand(n, n)\n",
    "b = rand(n)\n",
    "\n",
    "F = myqr(A)\n",
    "\n",
    "c = QTtimes(F, b)"
   ]
  },
  {
   "cell_type": "code",
   "execution_count": null,
   "metadata": {},
   "outputs": [],
   "source": [
    "R = UpperTriangular(F.V)"
   ]
  },
  {
   "cell_type": "code",
   "execution_count": null,
   "metadata": {},
   "outputs": [],
   "source": [
    "x = R\\c"
   ]
  },
  {
   "cell_type": "code",
   "execution_count": null,
   "metadata": {},
   "outputs": [],
   "source": [
    "b - A*x"
   ]
  },
  {
   "cell_type": "code",
   "execution_count": null,
   "metadata": {},
   "outputs": [],
   "source": [
    "b - A*(A\\b)"
   ]
  },
  {
   "cell_type": "markdown",
   "metadata": {},
   "source": [
    "---"
   ]
  },
  {
   "cell_type": "code",
   "execution_count": null,
   "metadata": {},
   "outputs": [],
   "source": [
    "import Base.\\\n",
    "\n",
    "\\(F::myQRfactorization, b::Vector) = UpperTriangular(F.V)\\QTtimes(F, b)"
   ]
  },
  {
   "cell_type": "code",
   "execution_count": null,
   "metadata": {
    "scrolled": true
   },
   "outputs": [],
   "source": [
    "methods(\\)"
   ]
  },
  {
   "cell_type": "code",
   "execution_count": null,
   "metadata": {},
   "outputs": [],
   "source": [
    "x = F\\b"
   ]
  },
  {
   "cell_type": "code",
   "execution_count": null,
   "metadata": {},
   "outputs": [],
   "source": [
    "b - A*x"
   ]
  },
  {
   "cell_type": "markdown",
   "metadata": {},
   "source": [
    "---"
   ]
  },
  {
   "cell_type": "markdown",
   "metadata": {},
   "source": [
    "> ## $QR$ Decomposition Theorem\n",
    ">\n",
    "> Let $A \\in \\mathbb{R}^{n \\times n}$. Then the following hold.\n",
    ">\n",
    "> 1. There exists $Q, R \\in \\mathbb{R}^{n \\times n}$ such that $Q$ is orthogonal, $R$ is upper-triangular, and $A = QR$.\n",
    ">\n",
    "> 2. If $A$ is **nonsingular**, then $\\exists$ **unique** $Q, R \\in \\mathbb{R}^{n \\times n}$ such that $Q$ is orthogonal, $R$ is upper-triangular with **positive diagonal entries**, and $A = QR$."
   ]
  },
  {
   "cell_type": "markdown",
   "metadata": {},
   "source": [
    "### Proof.\n",
    "\n",
    "1. Hint: Use Householder reflectors and induction on $n$.\n",
    "2. Hint: Let $D$ be diagonal with $d_{ii} = \\mathrm{sign}(r_{ii})$."
   ]
  },
  {
   "cell_type": "markdown",
   "metadata": {},
   "source": [
    "### Part 1\n",
    "\n",
    "If $n = 1$ then $A$ is a $1 \\times 1$ matrix. Thus, $A = [a_{11}]$. Let $Q = [1]$ and $R = [a_{11}]$. Then $Q$ is orthogonal, $R$ is upper-triangular, and $A = QR$.\n",
    "\n",
    "Now suppose that all $k \\times k$ matrices have a $QR$ decomposition, for some positive integer $k$.\n",
    "\n",
    "Let $n = k+1$ and $A \\in \\mathbb{R}^{n \\times n}$. We partition $A$ as\n",
    "\n",
    "$$\n",
    "A = \n",
    "\\begin{bmatrix}\n",
    "a_{11} & b^T \\\\ c & D\n",
    "\\end{bmatrix},\n",
    "$$\n",
    "\n",
    "where $D$ is a $k \\times k$ matrix.\n",
    "\n",
    "Let $Q_1$ be a Householder reflector for the first column of $A$. Then\n",
    "\n",
    "$$\n",
    "Q_1 A = \n",
    "\\begin{bmatrix}\n",
    "\\hat{a}_{11} & \\hat{b}^T \\\\ 0 & \\hat{D}\n",
    "\\end{bmatrix}.\n",
    "$$\n",
    "\n",
    "Note that $\\hat{D}$ is a $k \\times k$ matrix, so, by our induction hypothesis, $\\hat{D}$ has a $QR$ decomposition: $\\hat{D} = \\hat{Q} \\hat{R}$. Thus,\n",
    "\n",
    "$$\n",
    "Q_1 A = \n",
    "\\begin{bmatrix}\n",
    "\\hat{a}_{11} & \\hat{b}^T \\\\ 0 & \\hat{Q} \\hat{R}\n",
    "\\end{bmatrix}.\n",
    "$$\n",
    "\n",
    "Let\n",
    "\n",
    "$$\n",
    "Q_2 = \n",
    "\\begin{bmatrix}\n",
    "1 & 0 \\\\ 0 & \\hat{Q}^T\n",
    "\\end{bmatrix},\n",
    "$$\n",
    "\n",
    "and note that $Q_2$ is orthogonal. Then\n",
    "\n",
    "$$\n",
    "Q_2 Q_1 A = \n",
    "\\begin{bmatrix}\n",
    "1 & 0 \\\\ 0 & \\hat{Q}^T\n",
    "\\end{bmatrix}\n",
    "\\begin{bmatrix}\n",
    "\\hat{a}_{11} & \\hat{b}^T \\\\ 0 & \\hat{Q} \\hat{R}\n",
    "\\end{bmatrix} =\n",
    "\\begin{bmatrix}\n",
    "\\hat{a}_{11} & \\hat{b}^T \\\\ 0 & \\hat{Q}^T \\hat{Q} \\hat{R}\n",
    "\\end{bmatrix} =\n",
    "\\begin{bmatrix}\n",
    "\\hat{a}_{11} & \\hat{b}^T \\\\ 0 & \\hat{R}\n",
    "\\end{bmatrix}.\n",
    "$$\n",
    "\n",
    "Let $R = Q_2 Q_1 A$. Note that $R$ is upper-triangular. Let $Q = Q_1^T Q_2^T$. Note that $Q$ is orthogonal since it is the product of orthogonal matrices. Finally, we have that $A = Q_1^T Q_2^T R = Q R$."
   ]
  },
  {
   "cell_type": "markdown",
   "metadata": {},
   "source": [
    "### Part 2\n",
    "\n",
    "First, we let $A$ be an $n \\times n$ nonsingular matrix. Then, by part 1, the matrix $A$ has a $QR$ decomposition:  $A = QR$. Note that the diagonal entries of $R$ are nonzero since, otherwise, $\\det(R) = 0$ and that would imply that $\\det(A) = \\det(Q) \\det(R) = 0$, contradicting our assumption that $A$ is nonsingular.\n",
    "\n",
    "Let $D$ be the diagonal matrix with diagonal entries $d_{ii} = \\mathrm{sign}(r_{ii})$. Thus, $D$ has diagonal entries that are $\\pm 1$, so $D^2 = I$. That implies that\n",
    "\n",
    "$$\n",
    "A = Q R = Q D^2 R = (Q D) (D R).\n",
    "$$\n",
    "\n",
    "Let $\\hat{Q} = Q D$ and $\\hat{R} = D R$. Then $\\hat{Q}$ is orthogonal since $Q$ and $D$ are orthogonal. Also, $\\hat{R}$ is upper-triangular with positive diagonal entries, and $A = \\hat{Q} \\hat{R}$."
   ]
  },
  {
   "cell_type": "markdown",
   "metadata": {},
   "source": [
    "Now suppose that $A = Q_1 R_1 = Q_2 R_2$, where $R_1$ and $R_2$ have positive diagonal entries. Then,\n",
    "\n",
    "$$\n",
    "A^T A = R_1^T Q_1^T Q_1 R_1 = R_1^T R_1\n",
    "$$\n",
    "\n",
    "and $A^T A = R_2^T R_2$ are both Cholesky decompositions of the symmetric positive definite matrix $A^T A$. But the Cholesky decomposition is unique, so $R_1 = R_2$. Then,\n",
    "\n",
    "$$\n",
    "Q_1 = A R_1^{-1} = A R_2^{-1} = Q_2.\n",
    "$$"
   ]
  },
  {
   "cell_type": "markdown",
   "metadata": {},
   "source": [
    "---"
   ]
  },
  {
   "cell_type": "markdown",
   "metadata": {},
   "source": [
    "## Stability\n",
    "\n",
    "Multiplication by rotators or reflectors is stable:\n",
    "\n",
    "$$\n",
    "\\mathrm{fl}(QA) = Q(A + E)\n",
    "$$\n",
    "\n",
    "where $\\frac{\\|E\\|_2}{\\|A\\|_2}$ is tiny.\n",
    "\n",
    "Also,\n",
    "\n",
    "\\begin{align}\n",
    "\\mathrm{fl}(Q_2 Q_1 A)\n",
    "&= Q_2( Q_1(A + E_1) + E_2 ) \\\\\n",
    "&= Q_2( Q_1(A + E_1) + Q_1 Q_1^T E_2 ) \\\\\n",
    "&= Q_2 Q_1( A + E_1 + Q_1^T E_2 ) \\\\\n",
    "&= Q_2 Q_1( A + E ) \\\\\n",
    "\\end{align}\n",
    "\n",
    "where $E = E_1 + Q_1^T E_2$.\n",
    "\n",
    "Thus,\n",
    "\n",
    "$$\n",
    "\\mathrm{fl}(Q_2Q_1A) = Q_2Q_1(A + E),\n",
    "$$\n",
    "\n",
    "where $\\|E\\|_2 = \\left\\|E_1 + Q_1^T E_2\\right\\|_2 \\leq \\|E_1\\|_2 + \\left\\|Q_1^TE_2\\right\\|_2 = \\|E_1\\|_2 + \\left\\|E_2\\right\\|_2$. Therefore, $\\frac{\\|E\\|_2}{\\|A\\|_2}$ is tiny."
   ]
  },
  {
   "cell_type": "markdown",
   "metadata": {},
   "source": [
    "---"
   ]
  }
 ],
 "metadata": {
  "anaconda-cloud": {},
  "kernelspec": {
   "display_name": "Julia 1.6.4",
   "language": "julia",
   "name": "julia-1.6"
  },
  "language_info": {
   "file_extension": ".jl",
   "mimetype": "application/julia",
   "name": "julia",
   "version": "1.6.4"
  }
 },
 "nbformat": 4,
 "nbformat_minor": 4
}
