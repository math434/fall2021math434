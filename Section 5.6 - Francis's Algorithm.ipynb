{
 "cells": [
  {
   "cell_type": "markdown",
   "id": "superior-patrick",
   "metadata": {},
   "source": [
    "---\n",
    "# Section 5.6: Francis's Algorithm\n",
    "---"
   ]
  },
  {
   "cell_type": "markdown",
   "id": "neural-madagascar",
   "metadata": {},
   "source": [
    "Let $A \\in \\mathbb{C}^{n \\times n}$ be upper-Hessenberg.\n",
    "\n",
    "$$\n",
    "A =\n",
    "\\begin{bmatrix}\n",
    "* & * & * & * & * \\\\\n",
    "* & * & * & * & * \\\\\n",
    "  & * & * & * & * \\\\\n",
    "  &   & * & * & * \\\\\n",
    "  &   &   & * & * \\\\\n",
    "\\end{bmatrix}.\n",
    "$$\n",
    "\n",
    "If some subdiagonal entry is zero, then \n",
    "\n",
    "$$\n",
    "A = \n",
    "\\begin{bmatrix}\n",
    "A_{11} & A_{12} \\\\\n",
    "0 & A_{22} \\\\\n",
    "\\end{bmatrix}\n",
    "$$\n",
    "\n",
    "(i.e., $A$ is **block upper-triangular**) so we can find the eigenvalues of $A$ by finding the eigenvalues of the upper-Hessenberg matrices $A_{11}$ and $A_{22}$."
   ]
  },
  {
   "cell_type": "markdown",
   "id": "elementary-devil",
   "metadata": {},
   "source": [
    "---\n",
    "\n",
    "## Example\n",
    "\n",
    "Let's generate a random upper-Hessenberg matrix $A$ with a zero subdiagonal entry and check that its eigenvalues are the same as the eigenvalues of the submatrices $A_{11}$ and $A_{22}$."
   ]
  },
  {
   "cell_type": "code",
   "execution_count": null,
   "id": "painted-trade",
   "metadata": {},
   "outputs": [],
   "source": [
    "using LinearAlgebra"
   ]
  },
  {
   "cell_type": "code",
   "execution_count": null,
   "id": "latter-dylan",
   "metadata": {},
   "outputs": [],
   "source": [
    "n = 6\n",
    "\n",
    "A = Matrix(hessenberg!(randn(n,n)).H)\n",
    "A[4,3] = 0\n",
    "A"
   ]
  },
  {
   "cell_type": "code",
   "execution_count": null,
   "id": "ready-orientation",
   "metadata": {},
   "outputs": [],
   "source": [
    "A11, A22 = A[1:3,1:3], A[4:n,4:n]\n",
    "\n",
    "[eigvals(A) [eigvals(A11); eigvals(A22)]]"
   ]
  },
  {
   "cell_type": "markdown",
   "id": "compressed-duration",
   "metadata": {},
   "source": [
    "---\n",
    "\n",
    "## Bulge creation and bulge chasing\n",
    "\n",
    "We start by finding $Q$ unitary such that\n",
    "\n",
    "$$\n",
    "Q^* A = \n",
    "\\begin{bmatrix}\n",
    "* & * & * & * & * \\\\\n",
    "  & * & * & * & * \\\\\n",
    "  & * & * & * & * \\\\\n",
    "  &   & * & * & * \\\\\n",
    "  &   &   & * & * \\\\\n",
    "\\end{bmatrix}.\n",
    "$$\n",
    "\n",
    "Then\n",
    "\n",
    "$$\n",
    "Q^* A Q = \n",
    "\\begin{bmatrix}\n",
    "* & * & * & * & * \\\\\n",
    "* & * & * & * & * \\\\\n",
    "+ & * & * & * & * \\\\\n",
    "  &   & * & * & * \\\\\n",
    "  &   &   & * & * \\\\\n",
    "\\end{bmatrix}\n",
    "$$\n",
    "\n",
    "has a nonzero \"bulge\", indicated by the \"+\".\n",
    "\n",
    "We then return to Hessenberg form:\n",
    "\n",
    "$$\n",
    "\\begin{bmatrix}\n",
    "* & * & * & * & * \\\\\n",
    "* & * & * & * & * \\\\\n",
    "+ & * & * & * & * \\\\\n",
    "  &   & * & * & * \\\\\n",
    "  &   &   & * & * \\\\\n",
    "\\end{bmatrix}\n",
    "\\implies\n",
    "\\begin{bmatrix}\n",
    "* & * & * & * & * \\\\\n",
    "* & * & * & * & * \\\\\n",
    "  & * & * & * & * \\\\\n",
    "  & + & * & * & * \\\\\n",
    "  &   &   & * & * \\\\\n",
    "\\end{bmatrix}\n",
    "\\implies\n",
    "\\begin{bmatrix}\n",
    "* & * & * & * & * \\\\\n",
    "* & * & * & * & * \\\\\n",
    "  & * & * & * & * \\\\\n",
    "  &   & * & * & * \\\\\n",
    "  &   & + & * & * \\\\\n",
    "\\end{bmatrix}\n",
    "\\implies\n",
    "\\begin{bmatrix}\n",
    "* & * & * & * & * \\\\\n",
    "* & * & * & * & * \\\\\n",
    "  & * & * & * & * \\\\\n",
    "  &   & * & * & * \\\\\n",
    "  &   &   & * & * \\\\\n",
    "\\end{bmatrix}.\n",
    "$$\n",
    "\n",
    "This process is call \"bulge-chasing\". The process of bulge creation and bulge chasing is referred to as the **Francis iteration**."
   ]
  },
  {
   "cell_type": "markdown",
   "id": "treated-posting",
   "metadata": {},
   "source": [
    "---\n",
    "\n",
    "## Francis iteration\n",
    "\n",
    "1. $B \\gets A$\n",
    "\n",
    "2. $B \\gets Q^* B Q \\quad$ (create bulge in the first column)\n",
    "\n",
    "3. $B = \\mathrm{hess}(B) \\quad$ (chase the bulge down the matrix and off the bottom)"
   ]
  },
  {
   "cell_type": "markdown",
   "id": "civic-consent",
   "metadata": {},
   "source": [
    "---\n",
    "\n",
    "## Example"
   ]
  },
  {
   "cell_type": "code",
   "execution_count": null,
   "id": "hidden-appreciation",
   "metadata": {},
   "outputs": [],
   "source": [
    "function house(x)\n",
    "    u = copy(x)\n",
    "    \n",
    "    τ = norm(x)\n",
    "    if τ == 0.0\n",
    "        γ = 0.0\n",
    "    else\n",
    "        if x[1] < 0\n",
    "            τ = -τ    # τ = sign(x[1])*norm(x)\n",
    "        end\n",
    "        γ = τ + x[1]  # γ temporarily stores τ + x[1]\n",
    "        u[1] = 1.0    # u normalized to u[1] = 1\n",
    "        u[2:end] /= γ # divide u[2:end] by τ + x[1]\n",
    "        γ /= τ        # γ = (τ + x[1])/τ\n",
    "    end\n",
    "    \n",
    "    return u, γ, τ\n",
    "end\n",
    "\n",
    "housetimesleft(B::AbstractMatrix, u, γ) = B - (γ*u)*(u'*B)\n",
    "housetimesright(B::AbstractMatrix, u, γ) = B - (B*u)*(γ*u')"
   ]
  },
  {
   "cell_type": "code",
   "execution_count": null,
   "id": "democratic-phoenix",
   "metadata": {},
   "outputs": [],
   "source": [
    "n = 5\n",
    "\n",
    "A = rand(n,n)\n",
    "B = Matrix(hessenberg(A).H)"
   ]
  },
  {
   "cell_type": "code",
   "execution_count": null,
   "id": "swiss-enzyme",
   "metadata": {},
   "outputs": [],
   "source": [
    "u, γ, τ = house(B[:,1])\n",
    "B = housetimesleft(B, u, γ)"
   ]
  },
  {
   "cell_type": "code",
   "execution_count": null,
   "id": "preceding-snowboard",
   "metadata": {},
   "outputs": [],
   "source": [
    "B = housetimesright(B, u, γ)"
   ]
  },
  {
   "cell_type": "code",
   "execution_count": null,
   "id": "prompt-vegetation",
   "metadata": {},
   "outputs": [],
   "source": [
    "B = Matrix(hessenberg(B).H)"
   ]
  },
  {
   "cell_type": "markdown",
   "id": "musical-belle",
   "metadata": {},
   "source": [
    "Repeating the Francis iteration many times, we see that the subdiagonal entries are converging to zero, bringing us closer and closer to a **quasi-triangular** matrix whose $1 \\times 1$ diagonal blocks are the real eigenvalues of $A$ and whose $2 \\times 2$ diagonal blocks give us the complex conjugate pairs of eigenvalues of $A$."
   ]
  },
  {
   "cell_type": "code",
   "execution_count": null,
   "id": "becoming-jackson",
   "metadata": {},
   "outputs": [],
   "source": [
    "for i=1:100\n",
    "    u, γ, τ = house(B[:,1])\n",
    "    B = housetimesleft(B, u, γ)\n",
    "    B = housetimesright(B, u, γ)\n",
    "    B = Matrix(hessenberg(B).H)\n",
    "end\n",
    "B"
   ]
  },
  {
   "cell_type": "code",
   "execution_count": null,
   "id": "coupled-upset",
   "metadata": {},
   "outputs": [],
   "source": [
    "[eigvals(A) eigvals(B)]"
   ]
  },
  {
   "cell_type": "markdown",
   "id": "greatest-collective",
   "metadata": {},
   "source": [
    "---\n",
    "\n",
    "## The Symmetric Case\n",
    "\n",
    "If $A \\in \\mathbb{R}^{n \\times n}$ is symmetric, then $B = \\mathrm{hess}(A)$ will be **symmetric tridiagonal**:\n",
    "\n",
    "$$\n",
    "B =\n",
    "\\begin{bmatrix}\n",
    "* & * &   &   &   \\\\\n",
    "* & * & * &   &   \\\\\n",
    "  & * & * & * &   \\\\\n",
    "  &   & * & * & * \\\\\n",
    "  &   &   & * & * \\\\\n",
    "\\end{bmatrix}.\n",
    "$$\n",
    "\n",
    "Then the Francis iteration of creating a bulge and chasing the bulge looks like\n",
    "\n",
    "$$\n",
    "\\begin{bmatrix}\n",
    "* & * & + &   &   \\\\\n",
    "* & * & * &   &   \\\\\n",
    "+ & * & * & * &   \\\\\n",
    "  &   & * & * & * \\\\\n",
    "  &   &   & * & * \\\\\n",
    "\\end{bmatrix}\n",
    "\\implies\n",
    "\\begin{bmatrix}\n",
    "* & * &   &   &   \\\\\n",
    "* & * & * & + &   \\\\\n",
    "  & * & * & * &   \\\\\n",
    "  & + & * & * & * \\\\\n",
    "  &   &   & * & * \\\\\n",
    "\\end{bmatrix}\n",
    "\\implies\n",
    "\\begin{bmatrix}\n",
    "* & * &   &   &   \\\\\n",
    "* & * & * &   &   \\\\\n",
    "  & * & * & * & + \\\\\n",
    "  &   & * & * & * \\\\\n",
    "  &   & + & * & * \\\\\n",
    "\\end{bmatrix}\n",
    "\\implies\n",
    "\\begin{bmatrix}\n",
    "* & * &   &   &   \\\\\n",
    "* & * & * &   &   \\\\\n",
    "  & * & * & * &   \\\\\n",
    "  &   & * & * & * \\\\\n",
    "  &   &   & * & * \\\\\n",
    "\\end{bmatrix}.\n",
    "$$"
   ]
  },
  {
   "cell_type": "markdown",
   "id": "manual-haiti",
   "metadata": {},
   "source": [
    "---\n",
    "\n",
    "## Example"
   ]
  },
  {
   "cell_type": "code",
   "execution_count": null,
   "id": "coordinate-terrace",
   "metadata": {},
   "outputs": [],
   "source": [
    "housetimes(x::Vector, u, γ) = x - (γ*dot(u, x))*u\n",
    "\n",
    "function myhess(A)\n",
    "    n = size(A,1)\n",
    "    B = copy(A)\n",
    "    for i=1:n-2\n",
    "        u, γ, τ = house(B[i+1:end,i])\n",
    "        B[i+1,i] = -τ\n",
    "        B[i+2:end,i] .= 0\n",
    "        B[i+1:end,i+1:end] = housetimesleft(B[i+1:end,i+1:end], u, γ)\n",
    "        B[:,i+1:end] = housetimesright(B[:,i+1:end], u, γ)\n",
    "    end\n",
    "    return B\n",
    "end"
   ]
  },
  {
   "cell_type": "code",
   "execution_count": null,
   "id": "civilian-paraguay",
   "metadata": {},
   "outputs": [],
   "source": [
    "n = 5\n",
    "\n",
    "A = Symmetric(rand(n,n))\n",
    "B = hessenberg(A).H"
   ]
  },
  {
   "cell_type": "code",
   "execution_count": null,
   "id": "advance-suffering",
   "metadata": {},
   "outputs": [],
   "source": [
    "u, γ, τ = house(B[:,1])\n",
    "\n",
    "B = housetimesleft(B, u, γ)"
   ]
  },
  {
   "cell_type": "code",
   "execution_count": null,
   "id": "alternate-death",
   "metadata": {},
   "outputs": [],
   "source": [
    "B = housetimesright(B, u, γ)"
   ]
  },
  {
   "cell_type": "code",
   "execution_count": null,
   "id": "clinical-collins",
   "metadata": {},
   "outputs": [],
   "source": [
    "B = myhess(B)"
   ]
  },
  {
   "cell_type": "code",
   "execution_count": null,
   "id": "going-security",
   "metadata": {},
   "outputs": [],
   "source": [
    "dv = Vector(diag(B))\n",
    "ev = Vector(diag(B,-1))\n",
    "B = SymTridiagonal(dv, ev)"
   ]
  },
  {
   "cell_type": "markdown",
   "id": "fluid-approach",
   "metadata": {},
   "source": [
    "Repeating the Francis iteration many times, we see that the subdiagonal entries are converging to zero, bringing us closer and closer to a **diagonal** matrix whose diagonal entries are the eigenvalues of $A$."
   ]
  },
  {
   "cell_type": "code",
   "execution_count": null,
   "id": "defined-walnut",
   "metadata": {},
   "outputs": [],
   "source": [
    "for i=1:100\n",
    "    u, γ, τ = house(B[:,1])\n",
    "    B = housetimesleft(B, u, γ)\n",
    "    B = housetimesright(B, u, γ)\n",
    "    B = myhess(B)\n",
    "    dv = Vector(diag(B))\n",
    "    ev = Vector(diag(B,-1))\n",
    "    B = SymTridiagonal(dv, ev)\n",
    "end\n",
    "B"
   ]
  },
  {
   "cell_type": "code",
   "execution_count": null,
   "id": "tender-ticket",
   "metadata": {},
   "outputs": [],
   "source": [
    "eigvals(A) ≈ eigvals(B)"
   ]
  },
  {
   "cell_type": "markdown",
   "id": "living-guess",
   "metadata": {},
   "source": [
    "---\n",
    "\n",
    "## Convergence of Francis's algorithm\n",
    "\n",
    "Repeating the Francis iteration many times, we see that the subdiagonal entries are converging to zero.\n",
    "\n",
    "Suppose that\n",
    "\n",
    "$$\n",
    "|\\lambda_1| \\ge |\\lambda_2| \\ge \\cdots \\ge |\\lambda_n|.\n",
    "$$\n",
    "\n",
    "The convergence of the subdiagonal entry $b_{k+1,k}$ is governed by the ratios\n",
    "\n",
    "$$\n",
    "\\left|\\frac{\\lambda_{k+1}}{\\lambda_k}\\right| \\le 1, \\qquad k=1,\\ldots,n-1.\n",
    "$$\n",
    "\n",
    "If a ratio $\\left|\\frac{\\lambda_{k+1}}{\\lambda_k}\\right|$ is very small, then $b_{k+1,k}$ will converge to zero rapidly."
   ]
  },
  {
   "cell_type": "markdown",
   "id": "dedicated-steam",
   "metadata": {},
   "source": [
    "---\n",
    "\n",
    "## Example (continued)"
   ]
  },
  {
   "cell_type": "code",
   "execution_count": null,
   "id": "rapid-measure",
   "metadata": {},
   "outputs": [],
   "source": [
    "B"
   ]
  },
  {
   "cell_type": "code",
   "execution_count": null,
   "id": "considered-henry",
   "metadata": {},
   "outputs": [],
   "source": [
    "tmp = sort!(abs.(eigvals(A)), rev=true)\n",
    "ratios = tmp[2:end]./tmp[1:end-1]"
   ]
  },
  {
   "cell_type": "code",
   "execution_count": null,
   "id": "ranging-judges",
   "metadata": {},
   "outputs": [],
   "source": [
    "[ratios diag(B,-1)]"
   ]
  },
  {
   "cell_type": "markdown",
   "id": "ancient-belarus",
   "metadata": {},
   "source": [
    "---\n",
    "\n",
    "## Improving the rate of convergence by shifting\n",
    "\n",
    "We can improve the convergence rate using\n",
    "\n",
    "$$\n",
    "B - \\rho I\n",
    "$$\n",
    "\n",
    "in place of $B = \\mathrm{hess}(A)$.\n",
    "\n",
    "Then the rate of convergence depends on the ratios\n",
    "\n",
    "$$\n",
    "\\left|\\frac{\\lambda_{k+1} - \\rho}{\\lambda_k - \\rho}\\right|\n",
    "$$\n",
    "\n",
    "where\n",
    "\n",
    "$$\n",
    "|\\lambda_1 - \\rho| \\ge |\\lambda_2 - \\rho| \\ge \\cdots \\ge |\\lambda_n - \\rho|.\n",
    "$$\n",
    "\n",
    "If $\\rho$ approximates $\\lambda_n$ very well, then we expect the ratio\n",
    "\n",
    "$$\n",
    "\\left|\\frac{\\lambda_n - \\rho}{\\lambda_{n-1} - \\rho}\\right|\n",
    "$$\n",
    "\n",
    "to be tiny. Then $b_{n,n-1}$ will converge rapidly to zero and $b_{nn}$ will converge to $\\lambda_n - \\rho$.\n",
    "\n",
    "Once $|b_{n,n-1}| < 10^{-16}$, we can set $b_{n,n-1} = 0$:\n",
    "\n",
    "$$\n",
    "B = \n",
    "\\left[\n",
    "\\begin{array}{cccc|c}\n",
    "* & * &   &   &   \\\\\n",
    "* & * & * &   &   \\\\\n",
    "  & * & * & * &   \\\\\n",
    "  &   & * & * & * \\\\\\hline\n",
    "  &   &   & 0 & * \\\\\n",
    "\\end{array}\n",
    "\\right]\n",
    "=\n",
    "\\left[\n",
    "\\begin{array}{c|c}\n",
    "B_{11} & B_{12} \\\\\\hline\n",
    "0 & b_{nn} \\\\\n",
    "\\end{array}\n",
    "\\right]\n",
    "$$\n",
    "\n",
    "and $b_{nn} \\approx \\lambda_n - \\rho$.\n",
    "\n",
    "We then repeat the process on the submatrix $B_{11}$, which is referred to as **deflation**."
   ]
  },
  {
   "cell_type": "markdown",
   "id": "complimentary-track",
   "metadata": {},
   "source": [
    "---\n",
    "\n",
    "## Example"
   ]
  },
  {
   "cell_type": "code",
   "execution_count": null,
   "id": "valuable-trace",
   "metadata": {},
   "outputs": [],
   "source": [
    "n = 5\n",
    "\n",
    "A = Symmetric(rand(n,n))\n",
    "B = hessenberg(A).H"
   ]
  },
  {
   "cell_type": "code",
   "execution_count": null,
   "id": "active-grenada",
   "metadata": {},
   "outputs": [],
   "source": [
    "λ = eigvals(B)"
   ]
  },
  {
   "cell_type": "code",
   "execution_count": null,
   "id": "skilled-partition",
   "metadata": {},
   "outputs": [],
   "source": [
    "ρ = 2.5\n",
    "\n",
    "tmp = sort!(abs.(eigvals(A) .- ρ), rev=true)\n",
    "ratios = tmp[2:end]./tmp[1:end-1]"
   ]
  },
  {
   "cell_type": "code",
   "execution_count": null,
   "id": "selective-philosophy",
   "metadata": {},
   "outputs": [],
   "source": [
    "B = B - ρ*I\n",
    "\n",
    "k = 0\n",
    "while abs(B[n,n-1]) > 1e-16 && k < 100\n",
    "    k += 1\n",
    "    u, γ, τ = house(B[:,1])\n",
    "    B = housetimesleft(B, u, γ)\n",
    "    B = housetimesright(B, u, γ)\n",
    "    B = myhess(B)\n",
    "    dv = Vector(diag(B))\n",
    "    ev = Vector(diag(B,-1))\n",
    "    B = SymTridiagonal(dv, ev)\n",
    "end\n",
    "@show k\n",
    "B"
   ]
  },
  {
   "cell_type": "code",
   "execution_count": null,
   "id": "foreign-effort",
   "metadata": {},
   "outputs": [],
   "source": [
    "B[n,n] + ρ"
   ]
  },
  {
   "cell_type": "code",
   "execution_count": null,
   "id": "metallic-spice",
   "metadata": {},
   "outputs": [],
   "source": [
    "λ[n]"
   ]
  },
  {
   "cell_type": "code",
   "execution_count": null,
   "id": "magnetic-horizontal",
   "metadata": {},
   "outputs": [],
   "source": [
    "λ[n] ≈ B[n,n] + ρ"
   ]
  },
  {
   "cell_type": "markdown",
   "id": "advised-detective",
   "metadata": {},
   "source": [
    "---\n",
    "\n",
    "## Choosing the shift $\\rho$\n",
    "\n",
    "Let $B = \\mathrm{hess}(A)$. Some choices of $\\rho$ are the following.\n",
    "\n",
    "1. The zero shift: $\\rho = 0$.\n",
    "\n",
    "2. The Rayleigh Quotient shift: $\\rho = b_{nn}$\n",
    "\n",
    "3. The Wilkinson shift:  $\\rho = $ eigenvalue of $\\begin{bmatrix} b_{n-1,n-1} & b_{n-1,n} \\\\ b_{n,n-1} & b_{n,n} \\end{bmatrix}$ that is closest to $b_{n,n}$\n",
    "\n",
    "Francis's Algorithm using the Wilkinson shift is guaranteed to converge (usually a **cubic** rate of convergence)."
   ]
  },
  {
   "cell_type": "markdown",
   "id": "devoted-leader",
   "metadata": {},
   "source": [
    "---\n",
    "## Example"
   ]
  },
  {
   "cell_type": "code",
   "execution_count": null,
   "id": "posted-suffering",
   "metadata": {},
   "outputs": [],
   "source": [
    "n = 5\n",
    "\n",
    "A = Symmetric(rand(n,n))\n",
    "B = hessenberg(A).H\n",
    "\n",
    "λ = eigvals(B)"
   ]
  },
  {
   "cell_type": "code",
   "execution_count": null,
   "id": "honest-affiliation",
   "metadata": {},
   "outputs": [],
   "source": [
    "function wilkinson(B)\n",
    "    n = size(B,1)\n",
    "    ρs = eigvals(Matrix(B[n-1:n,n-1:n]))\n",
    "    ρ = (abs(ρs[1] - B[n,n]) < abs(ρs[2] - B[n,n])) ? ρs[1] : ρs[2]\n",
    "end\n",
    "\n",
    "ρ = wilkinson(B)"
   ]
  },
  {
   "cell_type": "code",
   "execution_count": null,
   "id": "loving-genesis",
   "metadata": {},
   "outputs": [],
   "source": [
    "tmp = sort!(abs.(eigvals(A) .- ρ), rev=true)\n",
    "ratios = tmp[2:end]./tmp[1:end-1]"
   ]
  },
  {
   "cell_type": "code",
   "execution_count": null,
   "id": "herbal-tennessee",
   "metadata": {},
   "outputs": [],
   "source": [
    "B = B - ρ*I\n",
    "\n",
    "k = 0\n",
    "while abs(B[n,n-1]) > 1e-16 && k < 100\n",
    "    k += 1\n",
    "    u, γ, τ = house(B[:,1])\n",
    "    B = housetimesleft(B, u, γ)\n",
    "    B = housetimesright(B, u, γ)\n",
    "    B = myhess(B)\n",
    "    dv = Vector(diag(B))\n",
    "    ev = Vector(diag(B,-1))\n",
    "    B = SymTridiagonal(dv, ev)\n",
    "end\n",
    "@show k\n",
    "B"
   ]
  },
  {
   "cell_type": "code",
   "execution_count": null,
   "id": "documented-organization",
   "metadata": {},
   "outputs": [],
   "source": [
    "B[n,n] + ρ"
   ]
  },
  {
   "cell_type": "code",
   "execution_count": null,
   "id": "nasty-cookbook",
   "metadata": {},
   "outputs": [],
   "source": [
    "λ"
   ]
  },
  {
   "cell_type": "code",
   "execution_count": null,
   "id": "prostate-teddy",
   "metadata": {},
   "outputs": [],
   "source": [
    "λ[2] ≈ B[n,n] + ρ"
   ]
  },
  {
   "cell_type": "markdown",
   "id": "recognized-carpet",
   "metadata": {},
   "source": [
    "---\n",
    "\n",
    "## `myeigvals`"
   ]
  },
  {
   "cell_type": "code",
   "execution_count": null,
   "id": "eligible-expansion",
   "metadata": {},
   "outputs": [],
   "source": [
    "function wilkinson(B)\n",
    "    n = size(B,1)\n",
    "    evals = eigvals(Matrix(B[n-1:n,n-1:n]))\n",
    "    ρ = (abs(evals[1] - B[n,n]) < abs(evals[2] - B[n,n])) ? evals[1] : evals[2]\n",
    "end"
   ]
  },
  {
   "cell_type": "code",
   "execution_count": null,
   "id": "victorian-melissa",
   "metadata": {},
   "outputs": [],
   "source": [
    "function symtridiagonal(B)\n",
    "    dv = Vector(diag(B))\n",
    "    ev = Vector(diag(B,-1))\n",
    "    C = SymTridiagonal(dv, ev)\n",
    "    return C\n",
    "end"
   ]
  },
  {
   "cell_type": "code",
   "execution_count": null,
   "id": "endangered-custom",
   "metadata": {},
   "outputs": [],
   "source": [
    "function francis_iteration(B::SymTridiagonal)\n",
    "    k = 0\n",
    "    while abs(B[end,end-1]) > 1e-16 && k < 1000\n",
    "        k += 1\n",
    "        u, γ, τ = house(B[:,1])\n",
    "        B = housetimesleft(B, u, γ)\n",
    "        B = housetimesright(B, u, γ)\n",
    "        B = symtridiagonal(myhess(B))\n",
    "    end\n",
    "    if abs(B[end,end-1]) > 1e-16\n",
    "        error(\"Francis iteration failed to converge.\")\n",
    "    end\n",
    "    return B\n",
    "end"
   ]
  },
  {
   "cell_type": "code",
   "execution_count": null,
   "id": "aware-cookie",
   "metadata": {},
   "outputs": [],
   "source": [
    "function myeigvals(A::Symmetric)\n",
    "    n = size(A,1)\n",
    "\n",
    "    λ = zeros(n)\n",
    "\n",
    "    B = hessenberg(A).H\n",
    "    \n",
    "    ρ = zeros(n-1)\n",
    "    for i = 1:n-1\n",
    "        ρ[i] = wilkinson(B)\n",
    "        B = B - ρ[i]*I\n",
    "        \n",
    "        B = francis_iteration(B)\n",
    "        \n",
    "        λ[i] = B[end,end] + sum(ρ)\n",
    "        B = symtridiagonal(B[1:end-1,1:end-1])\n",
    "    end\n",
    "    λ[n] = B[1,1] + sum(ρ)\n",
    "    \n",
    "    return sort!(λ)\n",
    "end"
   ]
  },
  {
   "cell_type": "code",
   "execution_count": null,
   "id": "beautiful-sequence",
   "metadata": {},
   "outputs": [],
   "source": [
    "n = 5\n",
    "\n",
    "A = Symmetric(rand(n,n))\n",
    "\n",
    "myeigvals(A)"
   ]
  },
  {
   "cell_type": "code",
   "execution_count": null,
   "id": "crude-sheffield",
   "metadata": {},
   "outputs": [],
   "source": [
    "eigvals(A)"
   ]
  },
  {
   "cell_type": "code",
   "execution_count": null,
   "id": "mathematical-johns",
   "metadata": {},
   "outputs": [],
   "source": [
    "myeigvals(A) ≈ eigvals(A)"
   ]
  },
  {
   "cell_type": "markdown",
   "id": "casual-tiffany",
   "metadata": {},
   "source": [
    "---\n",
    "## Computing eigenvectors\n",
    "\n",
    "Now that we have computed the eigenvalues, we can compute the eigenvectors using:\n",
    "\n",
    "1. Shift-and-invert / Rayleigh quotient iteration on the matrix $A$ using each computed eigenvalue as the shift;\n",
    "\n",
    "2. Accumulate all the orthogonal matrices applied in Francis's algorithm, $Q = Q_1 Q_2 \\cdots Q_m$, and then $A = Q D Q^T$ so the columns of $Q$ contain the eigenvectors of $A$."
   ]
  },
  {
   "cell_type": "markdown",
   "id": "individual-earthquake",
   "metadata": {},
   "source": [
    "---"
   ]
  }
 ],
 "metadata": {
  "kernelspec": {
   "display_name": "Julia 1.7.0",
   "language": "julia",
   "name": "julia-1.7"
  },
  "language_info": {
   "file_extension": ".jl",
   "mimetype": "application/julia",
   "name": "julia",
   "version": "1.7.0"
  }
 },
 "nbformat": 4,
 "nbformat_minor": 5
}
