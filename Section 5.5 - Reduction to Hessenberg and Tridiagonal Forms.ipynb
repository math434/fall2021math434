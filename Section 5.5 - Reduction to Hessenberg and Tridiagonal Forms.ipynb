{
 "cells": [
  {
   "cell_type": "markdown",
   "id": "copyrighted-mileage",
   "metadata": {},
   "source": [
    "---\n",
    "# Section 5.5: Reduction to Hessenberg and Tridiagonal Forms\n",
    "---"
   ]
  },
  {
   "cell_type": "markdown",
   "id": "drawn-selection",
   "metadata": {},
   "source": [
    "Given $A \\in \\mathbb{C}^{n \\times n}$, we want to find a unitary matrix $Q$ such that\n",
    "\n",
    "$$\n",
    "A = Q B Q^*\n",
    "$$\n",
    "\n",
    "where $B$ is \"simple\" using a _finite_ algorithm."
   ]
  },
  {
   "cell_type": "markdown",
   "id": "physical-aruba",
   "metadata": {},
   "source": [
    "Getting $B$ _triangular_ with a finite algorithm is not possible since that would violate the unsolvability of quintic polynomials."
   ]
  },
  {
   "cell_type": "markdown",
   "id": "cardiovascular-absence",
   "metadata": {},
   "source": [
    "Instead we will reduce $A$ to an **upper Hessenberg** matrix $B$:\n",
    "\n",
    "$$\n",
    "B =\n",
    "\\begin{bmatrix}\n",
    "* & * & * & * & * \\\\\n",
    "* & * & * & * & * \\\\\n",
    "  & * & * & * & * \\\\\n",
    "  &   & * & * & * \\\\\n",
    "  &   &   & * & * \\\\\n",
    "\\end{bmatrix}.\n",
    "$$"
   ]
  },
  {
   "cell_type": "markdown",
   "id": "tough-office",
   "metadata": {},
   "source": [
    "If $A = A^*$ then $B = B^*$ is **tridiagonl**:\n",
    "\n",
    "$$\n",
    "B =\n",
    "\\begin{bmatrix}\n",
    "* & * &   &   &   \\\\\n",
    "* & * & * &   &   \\\\\n",
    "  & * & * & * &   \\\\\n",
    "  &   & * & * & * \\\\\n",
    "  &   &   & * & * \\\\\n",
    "\\end{bmatrix}.\n",
    "$$\n",
    "\n"
   ]
  },
  {
   "cell_type": "markdown",
   "id": "revolutionary-gibraltar",
   "metadata": {},
   "source": [
    "---\n",
    "\n",
    "## A first attempt"
   ]
  },
  {
   "cell_type": "code",
   "execution_count": null,
   "id": "scientific-progressive",
   "metadata": {},
   "outputs": [],
   "source": [
    "using LinearAlgebra"
   ]
  },
  {
   "cell_type": "code",
   "execution_count": null,
   "id": "novel-entertainment",
   "metadata": {},
   "outputs": [],
   "source": [
    "function house(x)\n",
    "    u = copy(x)\n",
    "    \n",
    "    τ = norm(x)\n",
    "    if τ == 0.0\n",
    "        γ = 0.0\n",
    "    else\n",
    "        if x[1] < 0\n",
    "            τ = -τ    # τ = sign(x[1])*norm(x)\n",
    "        end\n",
    "        γ = τ + x[1]  # γ temporarily stores τ + x[1]\n",
    "        u[1] = 1.0    # u normalized to u[1] = 1\n",
    "        u[2:end] /= γ # divide u[2:end] by τ + x[1]\n",
    "        γ /= τ        # γ = (τ + x[1])/τ\n",
    "    end\n",
    "    \n",
    "    return u, γ, τ\n",
    "end\n",
    "\n",
    "housetimesleft(B::Matrix, u, γ) = B - (γ*u)*(u'*B)\n",
    "housetimesright(B::Matrix, u, γ) = B - (B*u)*(γ*u')"
   ]
  },
  {
   "cell_type": "code",
   "execution_count": null,
   "id": "capable-hanging",
   "metadata": {},
   "outputs": [],
   "source": [
    "n = 5\n",
    "A = rand(n,n)\n",
    "B = copy(A)"
   ]
  },
  {
   "cell_type": "code",
   "execution_count": null,
   "id": "special-girlfriend",
   "metadata": {},
   "outputs": [],
   "source": [
    "u, γ, τ = house(B[:,1])"
   ]
  },
  {
   "cell_type": "code",
   "execution_count": null,
   "id": "average-margin",
   "metadata": {},
   "outputs": [],
   "source": [
    "B = housetimesleft(B, u, γ)"
   ]
  },
  {
   "cell_type": "code",
   "execution_count": null,
   "id": "taken-vampire",
   "metadata": {},
   "outputs": [],
   "source": [
    "B = housetimesright(B, u, γ)"
   ]
  },
  {
   "cell_type": "code",
   "execution_count": null,
   "id": "junior-laundry",
   "metadata": {},
   "outputs": [],
   "source": [
    "[eigvals(A) eigvals(B)]"
   ]
  },
  {
   "cell_type": "markdown",
   "id": "universal-democrat",
   "metadata": {},
   "source": [
    "Although $A$ and $B$ have the same eigenvalues, the matrix $B$ is not \"simple\". We need a different approach."
   ]
  },
  {
   "cell_type": "markdown",
   "id": "threaded-lotus",
   "metadata": {},
   "source": [
    "---\n",
    "\n",
    "## Reduction to Hessenberg Form\n",
    "\n",
    "First we partition $A$ as\n",
    "\n",
    "$$\n",
    "A =\n",
    "\\begin{bmatrix}\n",
    "a_{11} & c^T \\\\\n",
    "b & \\hat{A} \\\\\n",
    "\\end{bmatrix}.\n",
    "$$\n",
    "\n",
    "Let $\\hat{Q}$ be the Householder reflector that gives us\n",
    "\n",
    "$$\n",
    "\\hat{Q} b = \n",
    "\\begin{bmatrix}\n",
    "-\\tau \\\\\n",
    "0 \\\\\n",
    "\\end{bmatrix}.\n",
    "$$\n",
    "\n",
    "Now we let\n",
    "\n",
    "$$\n",
    "Q = \n",
    "\\begin{bmatrix}\n",
    "1 & 0 \\\\\n",
    "0 & \\hat{Q} \\\\\n",
    "\\end{bmatrix}.\n",
    "$$\n",
    "\n",
    "Note that $Q$ is unitary since $\\hat{Q}$ is unitary.\n",
    "\n",
    "Then\n",
    "\n",
    "$$\n",
    "QAQ = \n",
    "\\begin{bmatrix}\n",
    "1 & 0 \\\\\n",
    "0 & \\hat{Q} \\\\\n",
    "\\end{bmatrix}\n",
    "\\begin{bmatrix}\n",
    "a_{11} & c^T \\\\\n",
    "b & \\hat{A} \\\\\n",
    "\\end{bmatrix}\n",
    "\\begin{bmatrix}\n",
    "1 & 0 \\\\\n",
    "0 & \\hat{Q} \\\\\n",
    "\\end{bmatrix} =\n",
    "\\begin{bmatrix}\n",
    "a_{11} & c^T \\hat{Q} \\\\\n",
    "\\hat{Q} b & \\hat{Q}\\hat{A}\\hat{Q} \\\\\n",
    "\\end{bmatrix} = \n",
    "\\left[\n",
    "\\begin{array}{c|c}\n",
    "a_{11} & c^T \\hat{Q} \\\\ \\hline\n",
    "\\begin{matrix} -\\tau \\\\ 0 \\end{matrix} & \\hat{Q}\\hat{A}\\hat{Q} \\\\\n",
    "\\end{array}\n",
    "\\right].\n",
    "$$\n",
    "\n",
    "Now the zeros in the first column have been preserved.\n",
    "\n",
    "Repeat on columns $2, 3, \\ldots, n-2$."
   ]
  },
  {
   "cell_type": "markdown",
   "id": "affecting-tracker",
   "metadata": {},
   "source": [
    "---\n",
    "\n",
    "## `myhess` and `hessenberg`"
   ]
  },
  {
   "cell_type": "code",
   "execution_count": null,
   "id": "mental-arnold",
   "metadata": {},
   "outputs": [],
   "source": [
    "housetimes(x::Vector, u, γ) = x - (γ*dot(u, x))*u\n",
    "\n",
    "function myhess(A)\n",
    "    n = size(A,1)\n",
    "    B = copy(A)\n",
    "    for i=1:n-2\n",
    "        u, γ, τ = house(B[i+1:end,i])\n",
    "        B[i+1,i] = -τ\n",
    "        B[i+2:end,i] .= 0\n",
    "        B[i+1:end,i+1:end] = housetimesleft(B[i+1:end,i+1:end], u, γ)\n",
    "        B[:,i+1:end] = housetimesright(B[:,i+1:end], u, γ)\n",
    "    end\n",
    "    return B\n",
    "end\n",
    "        "
   ]
  },
  {
   "cell_type": "code",
   "execution_count": null,
   "id": "composed-tuning",
   "metadata": {},
   "outputs": [],
   "source": [
    "n = 5\n",
    "A = rand(n,n)"
   ]
  },
  {
   "cell_type": "code",
   "execution_count": null,
   "id": "superior-joshua",
   "metadata": {},
   "outputs": [],
   "source": [
    "B = myhess(A)"
   ]
  },
  {
   "cell_type": "code",
   "execution_count": null,
   "id": "subtle-writer",
   "metadata": {},
   "outputs": [],
   "source": [
    "F = hessenberg(A)\n",
    "\n",
    "F.H"
   ]
  },
  {
   "cell_type": "code",
   "execution_count": null,
   "id": "helpful-newport",
   "metadata": {},
   "outputs": [],
   "source": [
    "B ≈ F.H"
   ]
  },
  {
   "cell_type": "code",
   "execution_count": null,
   "id": "competitive-literacy",
   "metadata": {},
   "outputs": [],
   "source": [
    "eigvals(A) ≈ eigvals(B)"
   ]
  },
  {
   "cell_type": "code",
   "execution_count": null,
   "id": "wanted-dividend",
   "metadata": {},
   "outputs": [],
   "source": [
    "n = 5\n",
    "A = rand(n,n)\n",
    "A = A + A'"
   ]
  },
  {
   "cell_type": "code",
   "execution_count": null,
   "id": "welsh-louisville",
   "metadata": {},
   "outputs": [],
   "source": [
    "B = myhess(A)"
   ]
  },
  {
   "cell_type": "code",
   "execution_count": null,
   "id": "geological-insert",
   "metadata": {},
   "outputs": [],
   "source": [
    "F = hessenberg(A)\n",
    "\n",
    "F.H"
   ]
  },
  {
   "cell_type": "code",
   "execution_count": null,
   "id": "decreased-system",
   "metadata": {},
   "outputs": [],
   "source": [
    "B ≈ Matrix(F.H)"
   ]
  },
  {
   "cell_type": "code",
   "execution_count": null,
   "id": "stainless-burner",
   "metadata": {},
   "outputs": [],
   "source": [
    "eigvals(A) ≈ eigvals(B)"
   ]
  },
  {
   "cell_type": "markdown",
   "id": "blessed-saint",
   "metadata": {},
   "source": [
    "---\n",
    "\n",
    "## Flop count\n",
    "\n",
    "Let $A \\in \\mathbb{R}^{n \\times n}$. Then the total flops required to reduce $A$ to upper-Hessenberg form is\n",
    "\n",
    "$$\n",
    "\\frac{10}{3} n^3 + O(n^2).\n",
    "$$\n",
    "\n",
    "If $A$ is symmetric, then the total flop count can be reduced to \n",
    "\n",
    "$$\n",
    "\\frac{4}{3} n^3 + O(n^2).\n",
    "$$"
   ]
  },
  {
   "cell_type": "markdown",
   "id": "broadband-midnight",
   "metadata": {},
   "source": [
    "---"
   ]
  }
 ],
 "metadata": {
  "kernelspec": {
   "display_name": "Julia 1.6.4",
   "language": "julia",
   "name": "julia-1.6"
  },
  "language_info": {
   "file_extension": ".jl",
   "mimetype": "application/julia",
   "name": "julia",
   "version": "1.6.4"
  }
 },
 "nbformat": 4,
 "nbformat_minor": 5
}
