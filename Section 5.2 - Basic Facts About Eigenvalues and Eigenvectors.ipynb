{
 "cells": [
  {
   "cell_type": "markdown",
   "id": "sought-moscow",
   "metadata": {},
   "source": [
    "---\n",
    "# Section 5.2: Basic Facts About Eigenvalues and Eigenvectors\n",
    "---"
   ]
  },
  {
   "cell_type": "markdown",
   "id": "applicable-russian",
   "metadata": {},
   "source": [
    "## Complex Numbers\n",
    "\n",
    "To discuss eigenvalues and eigenvectors, we will need to consider matrices and vectors that have complex entries,\n",
    "\n",
    "$$a + i b,$$\n",
    "\n",
    "where $a, b \\in \\mathbb{R}$ and $i^2 = -1$. The set of all complex numbers is denoted $\\mathbb{C}$.\n",
    "\n",
    "The **conjugate** of $a + i b$ is\n",
    "\n",
    "$$\n",
    "a - i b.\n",
    "$$\n",
    "\n",
    "Note that $(a + i b)(a - i b) = a^2 - i^2 b^2 = a^2 + b^2$."
   ]
  },
  {
   "cell_type": "markdown",
   "id": "meaningful-browser",
   "metadata": {},
   "source": [
    "---"
   ]
  },
  {
   "cell_type": "markdown",
   "id": "finite-irish",
   "metadata": {},
   "source": [
    "## Example\n",
    "\n",
    "An example of a $2 \\times 2$ matrix $A$ with complex entries is\n",
    "\n",
    "$$\n",
    "A =\n",
    "\\begin{bmatrix}\n",
    "1 + i & -i \\\\\n",
    "2 - i &  1\n",
    "\\end{bmatrix}\n",
    "\\in \\mathbb{C}^{2 \\times 2}.\n",
    "$$"
   ]
  },
  {
   "cell_type": "markdown",
   "id": "historical-venezuela",
   "metadata": {},
   "source": [
    "---"
   ]
  },
  {
   "cell_type": "markdown",
   "id": "precise-thousand",
   "metadata": {},
   "source": [
    "## The Conjugate Transpose\n",
    "\n",
    "For a matrix $A$ with complex entries, the generalization of the transpose is the **conjugate transpose**, and it is denoted $A^*$.\n",
    "\n",
    "The conjugate transpose of the matrix in the previous example is\n",
    "\n",
    "$$\n",
    "A^* =\n",
    "\\begin{bmatrix}\n",
    "1 - i & 2 + i \\\\\n",
    "    i &     1\n",
    "\\end{bmatrix}.\n",
    "$$"
   ]
  },
  {
   "cell_type": "markdown",
   "id": "prostate-martin",
   "metadata": {},
   "source": [
    "---"
   ]
  },
  {
   "cell_type": "code",
   "execution_count": null,
   "id": "international-luther",
   "metadata": {},
   "outputs": [],
   "source": [
    "im^2"
   ]
  },
  {
   "cell_type": "code",
   "execution_count": null,
   "id": "upset-sampling",
   "metadata": {},
   "outputs": [],
   "source": [
    "A = [ 0 1; -1 0 ]"
   ]
  },
  {
   "cell_type": "code",
   "execution_count": null,
   "id": "bulgarian-rebecca",
   "metadata": {},
   "outputs": [],
   "source": [
    "A^2"
   ]
  },
  {
   "cell_type": "markdown",
   "id": "champion-adaptation",
   "metadata": {},
   "source": [
    "---"
   ]
  },
  {
   "cell_type": "markdown",
   "id": "american-anchor",
   "metadata": {},
   "source": [
    "## Eigenvalues and Eigenvectors\n",
    "\n",
    "Let $A \\in \\mathbb{C}^{n \\times n}$. If $v$ is a _nonzero_ vector in $\\mathbb{C}^n$ and $\\lambda \\in \\mathbb{C}$ that satisfy\n",
    "\n",
    "$$\n",
    "A v = \\lambda v,\n",
    "$$\n",
    "\n",
    "then $v$ is an **eigenvector** of $A$ with associated **eigenvalue** $\\lambda$. In this case, we call $(\\lambda, v)$ an **eigenpair**.\n",
    "\n",
    "The **spectrum** of $A$ is the set of all eigenvalues of $A$."
   ]
  },
  {
   "cell_type": "markdown",
   "id": "exclusive-major",
   "metadata": {},
   "source": [
    "---"
   ]
  },
  {
   "cell_type": "markdown",
   "id": "regulated-memory",
   "metadata": {},
   "source": [
    "## The Characteristic Polynomial\n",
    "\n",
    "The **characteristic polynomial** of $A \\in \\mathbb{C}^{n \\times n}$ is \n",
    "\n",
    "$$\n",
    "p(\\lambda) = \\det(\\lambda I - A).\n",
    "$$\n",
    "\n",
    "A complex number $\\lambda$ is an eigenvalue of $A$ if and only if $\\lambda$ is a root of the characteristic polynomial of $A$ (that is, $\\det(\\lambda I - A) = 0$). This is because\n",
    "\n",
    "$$\n",
    "\\begin{align}\n",
    "\\exists v \\ne 0 : A v = \\lambda v\n",
    "&\\iff \\exists v \\ne 0 : (\\lambda I - A) v = 0 \\\\\n",
    "&\\iff \\lambda I - A \\ \\text{is singular} \\\\\n",
    "&\\iff \\det(\\lambda I - A) = 0.\n",
    "\\end{align}\n",
    "$$\n",
    "\n",
    "Since $p(\\lambda) = \\det(\\lambda I - A)$ is a polynomial of degree $n$, it has $n$ roots (counting possible repeated roots),\n",
    "\n",
    "$$ \\lambda_1, \\lambda_2, \\ldots, \\lambda_n \\in \\mathbb{C}, $$\n",
    "\n",
    "which are the eigenvalues of the $n \\times n$ matrix $A$."
   ]
  },
  {
   "cell_type": "markdown",
   "id": "typical-twins",
   "metadata": {},
   "source": [
    "---"
   ]
  },
  {
   "cell_type": "markdown",
   "id": "necessary-central",
   "metadata": {},
   "source": [
    "## Eigenvalues and the Determinant\n",
    "\n",
    "Note that\n",
    "\n",
    "$$ \\det(\\lambda I - A) = (\\lambda - \\lambda_1)(\\lambda - \\lambda_2)\\cdots(\\lambda - \\lambda_n), $$\n",
    "\n",
    "so substituting $\\lambda = 0$ we have\n",
    "\n",
    "$$ \\det(-A) = (-1)^n \\lambda_1 \\lambda_2 \\cdots \\lambda_n. $$\n",
    "\n",
    "Since $\\det(-A) = (-1)^n \\det(A)$, we find that\n",
    "\n",
    "$$ \\det(A) = \\lambda_1 \\lambda_2 \\cdots \\lambda_n. $$\n",
    "\n",
    "From this, we have\n",
    "\n",
    "$$\n",
    "\\begin{align}\n",
    "\\text{$A$ is nonsingular}\n",
    "&\\iff \\det(A) \\ne 0 \\\\\n",
    "&\\iff \\lambda_i \\ne 0, \\ i=1,\\ldots,n.\n",
    "\\end{align}\n",
    "$$"
   ]
  },
  {
   "cell_type": "markdown",
   "id": "identical-austria",
   "metadata": {},
   "source": [
    "---"
   ]
  },
  {
   "cell_type": "markdown",
   "id": "handed-baptist",
   "metadata": {},
   "source": [
    "## Exercise\n",
    "\n",
    "Compute the eigenvalues of the following matrices and use the Julia function `eigen` to check your answers."
   ]
  },
  {
   "cell_type": "markdown",
   "id": "editorial-organ",
   "metadata": {},
   "source": [
    "1. $A = \\begin{bmatrix} 1 & 2 \\\\ 2 & 4 \\end{bmatrix}$"
   ]
  },
  {
   "cell_type": "markdown",
   "id": "exact-north",
   "metadata": {},
   "source": [
    "2. $A = \\begin{bmatrix} 1 & 2 & 3 \\\\ 0 & 2 & 1 \\\\ 0 & 0 & 1 \\end{bmatrix}$"
   ]
  },
  {
   "cell_type": "markdown",
   "id": "excellent-stack",
   "metadata": {},
   "source": [
    "### Part 1\n",
    "\n",
    "The characteristic polynomial of $A$ is\n",
    "\n",
    "$$\n",
    "\\begin{align}\n",
    "\\det(\\lambda I - A) &=\n",
    "\\begin{vmatrix}\n",
    "\\lambda - 1 & -2 \\\\\n",
    "-2 & \\lambda - 4\n",
    "\\end{vmatrix} \\\\\n",
    "&= (\\lambda - 1) (\\lambda - 4) - (-2)(-2) \\\\\n",
    "&= \\lambda^2 - 5 \\lambda + 4 - 4 \\\\\n",
    "&= \\lambda^2 - 5 \\lambda \\\\\n",
    "&= \\lambda (\\lambda - 5). \\\\\n",
    "\\end{align}\n",
    "$$\n",
    "\n",
    "Therefore, the eigenvalues of $A$ are $0$ and $5$."
   ]
  },
  {
   "cell_type": "code",
   "execution_count": null,
   "id": "spread-ancient",
   "metadata": {},
   "outputs": [],
   "source": [
    "using LinearAlgebra\n",
    "\n",
    "A = [1 2; 2 4.0]"
   ]
  },
  {
   "cell_type": "code",
   "execution_count": null,
   "id": "economic-charge",
   "metadata": {},
   "outputs": [],
   "source": [
    "F = eigen(A)"
   ]
  },
  {
   "cell_type": "code",
   "execution_count": null,
   "id": "demanding-corner",
   "metadata": {},
   "outputs": [],
   "source": [
    "v = F.vectors[:,1]"
   ]
  },
  {
   "cell_type": "code",
   "execution_count": null,
   "id": "federal-performance",
   "metadata": {},
   "outputs": [],
   "source": [
    "norm(v)"
   ]
  },
  {
   "cell_type": "code",
   "execution_count": null,
   "id": "colored-peace",
   "metadata": {},
   "outputs": [],
   "source": [
    "v/v[2]"
   ]
  },
  {
   "cell_type": "code",
   "execution_count": null,
   "id": "respective-report",
   "metadata": {},
   "outputs": [],
   "source": [
    "v = [-2, 1.0]\n",
    "\n",
    "A*v"
   ]
  },
  {
   "cell_type": "code",
   "execution_count": null,
   "id": "automatic-potter",
   "metadata": {},
   "outputs": [],
   "source": [
    "v = F.vectors[:,2]"
   ]
  },
  {
   "cell_type": "code",
   "execution_count": null,
   "id": "photographic-concert",
   "metadata": {},
   "outputs": [],
   "source": [
    "v/v[1]"
   ]
  },
  {
   "cell_type": "code",
   "execution_count": null,
   "id": "therapeutic-trance",
   "metadata": {},
   "outputs": [],
   "source": [
    "v = [1, 2.0]\n",
    "\n",
    "A*v - 5*v"
   ]
  },
  {
   "cell_type": "code",
   "execution_count": null,
   "id": "comfortable-apartment",
   "metadata": {},
   "outputs": [],
   "source": [
    "V = [\n",
    "    -2 1\n",
    "     1 2.0\n",
    "]\n",
    "det(V)"
   ]
  },
  {
   "cell_type": "markdown",
   "id": "soviet-fluid",
   "metadata": {},
   "source": [
    "Therefore, the eigenvectors are linearly independent."
   ]
  },
  {
   "cell_type": "markdown",
   "id": "artificial-worry",
   "metadata": {},
   "source": [
    "### Part 2\n",
    "\n",
    "The characteristic polynomial of $A$ is\n",
    "\n",
    "$$\n",
    "\\begin{align}\n",
    "\\det(\\lambda I - A) &=\n",
    "\\begin{vmatrix}\n",
    "\\lambda - 1 & -2 & -3 \\\\\n",
    "0 & \\lambda - 2 & -1 \\\\\n",
    "0 & 0 & \\lambda - 1\n",
    "\\end{vmatrix} \\\\\n",
    "&= (\\lambda - 1)(\\lambda - 2)(\\lambda - 1) \\\\\n",
    "\\end{align}\n",
    "$$\n",
    "\n",
    "Therefore, the eigenvalues of $A$ are $1$, $1$, and $2$."
   ]
  },
  {
   "cell_type": "code",
   "execution_count": null,
   "id": "frank-anime",
   "metadata": {},
   "outputs": [],
   "source": [
    "A = [\n",
    "    1 2 3\n",
    "    0 2 1\n",
    "    0 0 1.0\n",
    "]"
   ]
  },
  {
   "cell_type": "code",
   "execution_count": null,
   "id": "vocational-suspect",
   "metadata": {},
   "outputs": [],
   "source": [
    "eigen(A)"
   ]
  },
  {
   "cell_type": "code",
   "execution_count": null,
   "id": "another-champion",
   "metadata": {},
   "outputs": [],
   "source": [
    "v = [1.0, 0.0, 0.0]\n",
    "\n",
    "A*v - v"
   ]
  },
  {
   "cell_type": "code",
   "execution_count": null,
   "id": "upset-change",
   "metadata": {},
   "outputs": [],
   "source": [
    "v = [-1.0, 0.0, 0.0]\n",
    "\n",
    "A*v - v"
   ]
  },
  {
   "cell_type": "code",
   "execution_count": null,
   "id": "generous-figure",
   "metadata": {},
   "outputs": [],
   "source": [
    "v = [2.0, 1.0, 0.0]\n",
    "\n",
    "A*v - 2*v"
   ]
  },
  {
   "cell_type": "markdown",
   "id": "traditional-model",
   "metadata": {},
   "source": [
    "---"
   ]
  },
  {
   "cell_type": "markdown",
   "id": "valid-blair",
   "metadata": {},
   "source": [
    "> ### Theorem: (Linearly Independent Eigenvectors)\n",
    ">\n",
    "> Let $v_1,\\ldots,v_k$ be eigenvectors of $A \\in \\mathbb{C}^{n \\times n}$ with associated eigenvalues $\\lambda_1,\\ldots,\\lambda_k$.\n",
    ">\n",
    "> If $\\lambda_1,\\ldots,\\lambda_k$ are distinct, then $v_1,\\ldots,v_k$ are linearly independent."
   ]
  },
  {
   "cell_type": "markdown",
   "id": "weird-consent",
   "metadata": {},
   "source": [
    "---"
   ]
  },
  {
   "cell_type": "markdown",
   "id": "democratic-china",
   "metadata": {},
   "source": [
    "## Eigenvalue Decomposition\n",
    "\n",
    "Let $A \\in \\mathbb{C}^{n \\times n}$ and let $\\lambda_1,\\ldots,\\lambda_n$ be its eigenvalues with associated eigenvectors $v_1,\\ldots,v_n$.\n",
    "\n",
    "Let\n",
    "\n",
    "$$\n",
    "V = \\begin{bmatrix} v_1 & v_2 & \\cdots & v_n \\end{bmatrix}\n",
    "\\qquad \\text{and} \\qquad\n",
    "D = \\begin{bmatrix}\n",
    " \\lambda_1 \\\\\n",
    " & \\lambda_2 \\\\\n",
    " & & \\ddots \\\\\n",
    " & & & \\lambda_n\n",
    " \\end{bmatrix}.\n",
    "$$\n",
    "\n",
    "Then $A v_i = \\lambda_i v_i$, for $i=1,\\ldots,n$, implies that\n",
    "\n",
    "$$ A V = V D. $$\n",
    "\n",
    "If $v_1,\\ldots,v_n$ are linearly independent, then $V$ is a nonsingular matrix, so\n",
    "\n",
    "$$ A = V D V^{-1}. $$\n",
    "\n",
    "This factorization of $A$ is known as the **eigenvalue decomposition** of $A$."
   ]
  },
  {
   "cell_type": "markdown",
   "id": "romance-death",
   "metadata": {},
   "source": [
    "---"
   ]
  },
  {
   "cell_type": "markdown",
   "id": "novel-lexington",
   "metadata": {},
   "source": [
    "## Similar Matrices and Diagonalization\n",
    "\n",
    "When $A = S B S^{-1}$ for some nonsingular $S$, we say that $A$ and $B$ are **similar matrices**. If $A$ and $B$ are similar, then\n",
    "\n",
    "$$\n",
    "\\det(\\lambda I - A) = \\det(\\lambda I - B),\n",
    "$$\n",
    "\n",
    "which implies that $A$ and $B$ have exactly the same eigenvalues. We will use this fact in numerical methods for computing eigenvalues.\n",
    "\n",
    "When $A$ is similar to a diagonal matrix $D$, we say that $A$ is **diagonalizable**. An $n \\times n$ matrix $A$ is diagonalizable if and only if $A$ has $n$ linearly independent eigenvectors. By the above theorem, if $A$ has $n$ distinct eigenvalues, then $A$ is diagonalizable.\n",
    "\n",
    "A matrix that is not diagonalizable (i.e., does not have $n$ linearly independent eigenvectors) is called **defective**. The $3 \\times 3$ matrix in the previous exercise is defective."
   ]
  },
  {
   "cell_type": "code",
   "execution_count": null,
   "id": "foster-guidance",
   "metadata": {},
   "outputs": [],
   "source": [
    "?eigen"
   ]
  },
  {
   "cell_type": "code",
   "execution_count": null,
   "id": "cubic-champion",
   "metadata": {},
   "outputs": [],
   "source": [
    "A = [1 2; 2 4.0]\n",
    "\n",
    "vals, vecs = eigen(A)\n",
    "\n",
    "V = vecs\n",
    "D = Diagonal(vals)\n",
    "\n",
    "A*V ≈ V*D"
   ]
  },
  {
   "cell_type": "code",
   "execution_count": null,
   "id": "parliamentary-gnome",
   "metadata": {},
   "outputs": [],
   "source": [
    "A ≈ V*D/V"
   ]
  },
  {
   "cell_type": "code",
   "execution_count": null,
   "id": "blocked-newsletter",
   "metadata": {},
   "outputs": [],
   "source": [
    "A = [\n",
    "    1 2 3\n",
    "    0 2 1\n",
    "    0 0 1.0\n",
    "]\n",
    "\n",
    "vals, vecs = eigen(A)\n",
    "\n",
    "V = vecs\n",
    "D = Diagonal(vals)\n",
    "\n",
    "A*V ≈ V*D"
   ]
  },
  {
   "cell_type": "code",
   "execution_count": null,
   "id": "sharp-breathing",
   "metadata": {},
   "outputs": [],
   "source": [
    "det(V)"
   ]
  },
  {
   "cell_type": "markdown",
   "id": "thrown-anderson",
   "metadata": {},
   "source": [
    "---"
   ]
  },
  {
   "cell_type": "markdown",
   "id": "marine-stopping",
   "metadata": {},
   "source": [
    "## Iterative Methods\n",
    "\n",
    "There is no closed formula for computing eigenvalues due to the fact that the problem of finding the roots of a polynomial can be posed as an eigenvalue problem.\n",
    "\n",
    "Let\n",
    "\n",
    "$$ p(x) = x^n + a_{n-1} x^{n-1} + \\cdots + a_1 x + a_0. $$\n",
    "\n",
    "The **companion matrix** of the polynomial $p(x)$ is\n",
    "\n",
    "$$\n",
    "A = \n",
    "\\begin{bmatrix}\n",
    "-a_{n-1} & -a_{n-2} & \\cdots & -a_1 & -a_0 \\\\\n",
    " 1 \\\\\n",
    " & 1 \\\\\n",
    " & & \\ddots \\\\\n",
    " & & & 1 \\\\\n",
    " & & & & 1\n",
    "\\end{bmatrix}\n",
    "$$\n",
    "\n",
    "and has the property that $\\det(\\lambda I - A) = p(\\lambda)$."
   ]
  },
  {
   "cell_type": "markdown",
   "id": "individual-abortion",
   "metadata": {},
   "source": [
    "[Neils Henrik Abel](https://en.wikipedia.org/wiki/Niels_Henrik_Abel) showed that there is no closed formula in radicals for the roots of a polynomial with degree five and higher. So, there can be no closed formula for computing eigenvalues.\n",
    "\n",
    "This means that we need to use an **iterative method** to compute the eigenvalues of a matrix. For example, the **power method** that we will study in the next section, is an iterative method that generates a sequence of vectors in $\\mathbb{C}^n$,\n",
    "\n",
    "$$q_1, q_2, q_3, \\ldots,$$\n",
    "\n",
    "that converges to an eigenvector of a matrix $A \\in \\mathbb{C}^{n \\times n}$.\n",
    "\n",
    "We say that\n",
    "\n",
    "$$ q_j \\to v \\quad \\text{as} \\quad j \\to \\infty $$\n",
    "\n",
    "if\n",
    "\n",
    "$$ \\|q_j - v\\| \\to 0 \\quad \\text{as} \\quad j \\to \\infty.$$\n",
    "\n",
    "Any vector norm will do here since all norms are equivalent on $\\mathbb{C}^n$."
   ]
  },
  {
   "cell_type": "markdown",
   "id": "spatial-adapter",
   "metadata": {},
   "source": [
    "---"
   ]
  },
  {
   "cell_type": "markdown",
   "id": "senior-destination",
   "metadata": {},
   "source": [
    "## Rate of Convergence\n",
    "\n",
    "We say that the sequence $q_j$ ($j = 1, 2, \\ldots$) converges to $v$ with a **linear rate of convergence** if\n",
    "\n",
    "$$\n",
    "\\lim_{j \\to \\infty} \\frac{\\|q_{j+1} - v\\|}{\\|q_j - v\\|} = r, \\qquad 0 < r < 1.\n",
    "$$\n",
    "\n",
    "That is, $\\|q_{j+1} - v\\| \\approx r \\|q_j - v\\|$ for all $j$ sufficiently large. The number $r$ is called the **convergence ratio**. The closer $r$ is to zero, the faster the convergence."
   ]
  },
  {
   "cell_type": "markdown",
   "id": "creative-admission",
   "metadata": {},
   "source": [
    "We say that $q_j \\to v$ with a **quadratic rate of convergence** if\n",
    "\n",
    "$$\n",
    "\\lim_{j \\to \\infty} \\frac{\\|q_{j+1} - v\\|}{\\|q_j - v\\|^2} = C, \\qquad C > 0.\n",
    "$$\n",
    "\n",
    "That is, $\\|q_{j+1} - v\\| \\approx C \\|q_j - v\\|^2$ for all $j$ sufficiently large. Once $\\|q_j - v\\|$ is small enough, we expect to double the number of correct digits with each iteration."
   ]
  },
  {
   "cell_type": "markdown",
   "id": "convinced-techno",
   "metadata": {},
   "source": [
    "---"
   ]
  }
 ],
 "metadata": {
  "kernelspec": {
   "display_name": "Julia 1.6.4",
   "language": "julia",
   "name": "julia-1.6"
  },
  "language_info": {
   "file_extension": ".jl",
   "mimetype": "application/julia",
   "name": "julia",
   "version": "1.6.4"
  }
 },
 "nbformat": 4,
 "nbformat_minor": 5
}
